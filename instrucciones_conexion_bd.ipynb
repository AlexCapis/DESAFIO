{
 "cells": [
  {
   "cell_type": "markdown",
   "metadata": {},
   "source": [
    "# INSTRUCCIONES PARA CONECTAR CON LA BASE DE DATOS DE SQL\n",
    "\n",
    "<details>\n",
    "<summary>Información detallada del proceso de este notebook</summary>\n",
    "<p>\n",
    "\n",
    "En este documento, se detallará el proceso para conectar y extraer los datos de la base de datos de SQL proporcionada por el equipo de full stack. Estos datos han sido generados mediante el registro de usuarios y serán utilizados por el equipo de data science para realizar diversas tareas, como limpieza, análisis exhaustivo, creación de visualizaciones, aplicar técnicas de machine learning, implementar APIs para complementar la información y desarrollar soluciones de inteligencia artificial, entre otras.\n",
    "\n",
    "Una vez que el equipo de data science haya completado las tareas mencionadas y obtenido insights valiosos de los datos, se procederá a presentar estos hallazgos al equipo de negocio. Esto permitirá trasladar los datos de manera significativa y con sentido, facilitando el proceso de toma de decisiones para mejorar la aplicación web.\n",
    "\n",
    "El objetivo final de este proceso es proporcionar al equipo de negocio una visión clara y completa de la dirección actual de la aplicación web, así como identificar posibles mejoras y oportunidades de crecimiento. La información entregada será precisa, rápida de acceder y fácil de interpretar, lo que permitirá brindar el servicio esperado de manera efectiva y eficiente.\n",
    "\n",
    "Al seguir esta metodología, aseguramos que la colaboración entre los distintos equipos sea fluida y eficaz, promoviendo un enfoque colaborativo y bien estructurado para el desarrollo y crecimiento continuo de la aplicación web.\n",
    "\n",
    "\n",
    "</p>\n",
    "</details>"
   ]
  },
  {
   "cell_type": "code",
   "execution_count": 1,
   "metadata": {},
   "outputs": [],
   "source": [
    "import sqlite3"
   ]
  },
  {
   "cell_type": "code",
   "execution_count": null,
   "metadata": {},
   "outputs": [],
   "source": [
    "# NO EJECUTAR PORQUE HAY QUE ESPERAR A QUE LOS DE FULL_STACK NOS DIGAN COMO SE LLAMA LA BASE DE DATOS Y VER QUE ES LO QUE CONTIENE\n",
    "conexion = sqlite3.connect(\"nombre_base_datos.db\")\n",
    "cursor = conexion.cursor()\n",
    "cursor.execute()"
   ]
  },
  {
   "cell_type": "code",
   "execution_count": null,
   "metadata": {},
   "outputs": [],
   "source": [
    "conexion.commit()\n",
    "conexion.close()"
   ]
  }
 ],
 "metadata": {
  "kernelspec": {
   "display_name": "Python 3",
   "language": "python",
   "name": "python3"
  },
  "language_info": {
   "codemirror_mode": {
    "name": "ipython",
    "version": 3
   },
   "file_extension": ".py",
   "mimetype": "text/x-python",
   "name": "python",
   "nbconvert_exporter": "python",
   "pygments_lexer": "ipython3",
   "version": "3.10.11"
  },
  "orig_nbformat": 4
 },
 "nbformat": 4,
 "nbformat_minor": 2
}
