{
 "cells": [
  {
   "cell_type": "markdown",
   "metadata": {},
   "source": [
    "# GENERADOR DE RESPUESTAS A TRAVÉS DE OPENIA\n",
    "\n",
    "<details>\n",
    "<summary>¿Por qué introducir la Inteligencia Artificial?</summary>\n",
    "<p>\n",
    "\n",
    "En este notebook, nuestro objetivo principal es aprovechar la inteligencia artificial para enriquecer la experiencia del usuario. Mediante el uso de técnicas de IA, podremos proporcionar información valiosa de manera más directa, evitando la necesidad de incluir numerosos enlaces a blogs, artículos y protocolos en nuestra aplicación web.\n",
    "\n",
    "El enfoque que adoptamos busca ofrecer un servicio altamente interactivo y novedoso para el usuario. Al hacerlo, nos aseguramos de que obtengan la información que necesitan de forma rápida y sencilla, sin tener que navegar a través de múltiples recursos.\n",
    "\n",
    "Al incorporar la inteligencia artificial, podremos realizar análisis predictivos y proporcionar recomendaciones personalizadas basadas en los datos y preferencias del usuario. De esta manera, creamos una experiencia más individualizada y adaptada a las necesidades específicas de cada usuario.\n",
    "\n",
    "En lugar de abrumar al usuario con una sobrecarga de información, podemos presentarles resultados relevantes y significativos en tiempo real. De esta manera, mejoramos la eficiencia y la utilidad de nuestra aplicación, brindando un valor agregado y una experiencia más gratificante para el usuario. Con este enfoque, buscamos establecer un nuevo estándar en la forma en que entregamos información y servicios, haciendo que todo el proceso sea más amigable y beneficioso para el usuario final.\n",
    "\n",
    "\n",
    "</p>\n",
    "</details>"
   ]
  },
  {
   "cell_type": "code",
   "execution_count": null,
   "metadata": {},
   "outputs": [],
   "source": [
    "import openai\n",
    "\n",
    "def get_heat_wave_information(question):\n",
    "    # Your OpenAI API key here\n",
    "    api_key = \"YOUR_API_KEY\"\n",
    "\n",
    "    # Set up the API key\n",
    "    openai.api_key = api_key\n",
    "\n",
    "    # The prompt for the API call\n",
    "    prompt = \"Heat waves and their impact on cities and the community:\\n\"\n",
    "\n",
    "    # Concatenate the prompt and the user's question\n",
    "    search_query = prompt + question\n",
    "\n",
    "    # Make the API call\n",
    "    response = openai.Completion.create(\n",
    "        engine=\"davinci\",\n",
    "        prompt=search_query,\n",
    "        max_tokens=200,  # Adjust this value based on your needs\n",
    "        stop=[\"\\n\"],     # Stop when the first complete sentence is generated\n",
    "        temperature=0,   # Set to 0 for deterministic results, higher for randomness\n",
    "        n=1              # Number of responses to return\n",
    "    )\n",
    "\n",
    "    # Extract the answer from the API response\n",
    "    answer = response['choices'][0]['text'].strip()\n",
    "\n",
    "    return answer\n",
    "\n",
    "if __name__ == \"__main__\":\n",
    "    while True:\n",
    "        question = input(\"Ask a question related to heat waves: \")\n",
    "\n",
    "        # Check if the question contains relevant keywords\n",
    "        if \"heat\" in question.lower() or \"wave\" in question.lower():\n",
    "            answer = get_heat_wave_information(question)\n",
    "            print(\"Answer:\", answer)\n",
    "        else:\n",
    "            print(\"Please ask a question related to heat waves.\")"
   ]
  }
 ],
 "metadata": {
  "language_info": {
   "name": "python"
  },
  "orig_nbformat": 4
 },
 "nbformat": 4,
 "nbformat_minor": 2
}
