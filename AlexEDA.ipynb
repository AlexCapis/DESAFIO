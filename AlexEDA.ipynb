{
 "cells": [
  {
   "cell_type": "markdown",
   "metadata": {},
   "source": [
    "# DESAFÍO: ANÁLISIS EXPLORATORIO DE DATOS DE LOS USUARIOS LOGUEADOS\n",
    "\n",
    "En este cuaderno, realizaremos un análisis exploratorio de los datos relacionados con los usuarios logueados en nuestra aplicación. Nuestra principal meta es extraer información relevante para abordar aspectos cruciales con el equipo de negocios. A través de las conclusiones obtenidas, podremos profundizar en el perfil de nuestro público objetivo y evaluar la recepción que está teniendo nuestra aplicación entre el público.\n",
    "\n",
    "#### Los datos en el DataFrame muestran información detallada sobre los usuarios logueados:\n",
    "\n",
    "-La columna \"fecha\" contiene la fecha de logueo de cada usuario.\n",
    "-La columna \"nombre\" muestra el nombre de cada usuario.\n",
    "-\"cp\" representa el código postal del lugar de residencia del usuario.\n",
    "-\"edad\" indica la fecha de nacimiento de cada usuario.\n",
    "-\"n_hijos_menores\" muestra el número de hijos menores de cada usuario.\n",
    "-\"sexo\" indica el género de cada usuario.\n",
    "-\"email\" es la dirección de correo electrónico de cada usuario.\n",
    "\n",
    "#### Antes de realizar el análisis, es importante abordar ciertas cuestiones de limpieza y consistencia en los datos:\n",
    "\n",
    "    Asegurarnos de que todas las fechas en la columna \"fecha\" estén en un formato consistente.\n",
    "\n",
    "    Calcular la edad real de los usuarios a partir de la fecha de nacimiento y registrarla en la columna \"edad\".\n",
    "\n",
    "    Revisar y normalizar los valores en la columna \"sexo\" para que sean consistentes en mayúsculas o minúsculas.\n",
    "\n",
    "    Eliminar o tratar duplicados en los nombres de usuarios para garantizar la unicidad.\n",
    "\n",
    "    Verificar que todas las direcciones de correo electrónico sean válidas y no haya duplicados.\n",
    "\n",
    "#### Con los datos limpios y listos para el análisis, exploraremos diversas métricas y patrones para obtener insights valiosos:\n",
    "\n",
    "    Comportamiento de inicio de sesión: Analizaremos la frecuencia y el horario de inicio de sesión para identificar momentos de mayor actividad.\n",
    "\n",
    "    Distribución geográfica: Investigaremos la ubicación de nuestros usuarios para conocer las regiones con mayor participación y explorar oportunidades de expansión.\n",
    "\n",
    "    Características demográficas: Examinaremos datos como la edad, el género y la cantidad de hijos menores para entender mejor el perfil de nuestros usuarios.\n",
    "\n",
    "    Retención y abandono: Estudiaremos la frecuencia de inicio de sesión de los usuarios y las tasas de abandono para detectar posibles áreas de mejora.\n",
    "\n",
    "    Interacciones y preferencias: Analizaremos las acciones más comunes de los usuarios dentro de la aplicación y sus preferencias de contenido para mejorar la experiencia del usuario.\n",
    "\n",
    "Con el análisis completo, presentaremos un informe detallado que destacará los hallazgos más relevantes y ofrecerá recomendaciones clave para enriquecer nuestra estrategia comercial. "
   ]
  },
  {
   "cell_type": "code",
   "execution_count": 1,
   "metadata": {},
   "outputs": [],
   "source": [
    "# Importamos las distintas librerias necesarias para el análisis\n",
    "\n",
    "# Tratamiento de datos\n",
    "import numpy as np\n",
    "import pandas as pd\n",
    "import random\n",
    "from faker import Faker\n",
    "from datetime import datetime, timedelta\n",
    "\n",
    "# Rutas\n",
    "import os\n",
    "\n",
    "# Gráficos\n",
    "import matplotlib.pyplot as plt\n",
    "import seaborn as sns\n",
    "\n",
    "# Tratamiento de las variables categóricas que se pueden ordenar\n",
    "from sklearn.preprocessing import LabelEncoder\n",
    "\n",
    "# Configuración warnings\n",
    "import warnings\n",
    "warnings.filterwarnings('ignore')"
   ]
  },
  {
   "cell_type": "code",
   "execution_count": 67,
   "metadata": {},
   "outputs": [
    {
     "data": {
      "text/html": [
       "<div>\n",
       "<style scoped>\n",
       "    .dataframe tbody tr th:only-of-type {\n",
       "        vertical-align: middle;\n",
       "    }\n",
       "\n",
       "    .dataframe tbody tr th {\n",
       "        vertical-align: top;\n",
       "    }\n",
       "\n",
       "    .dataframe thead th {\n",
       "        text-align: right;\n",
       "    }\n",
       "</style>\n",
       "<table border=\"1\" class=\"dataframe\">\n",
       "  <thead>\n",
       "    <tr style=\"text-align: right;\">\n",
       "      <th></th>\n",
       "      <th>fecha_registro</th>\n",
       "      <th>nombre</th>\n",
       "      <th>user_id</th>\n",
       "      <th>sexo</th>\n",
       "      <th>fecha_nacimiento</th>\n",
       "      <th>cp</th>\n",
       "      <th>n_hijos_menores</th>\n",
       "      <th>email</th>\n",
       "    </tr>\n",
       "  </thead>\n",
       "  <tbody>\n",
       "    <tr>\n",
       "      <th>0</th>\n",
       "      <td>27-02-2023</td>\n",
       "      <td>Scott Williams</td>\n",
       "      <td>390424</td>\n",
       "      <td>H</td>\n",
       "      <td>16-08-1975</td>\n",
       "      <td>28049</td>\n",
       "      <td>4</td>\n",
       "      <td>tararichards@example.org</td>\n",
       "    </tr>\n",
       "    <tr>\n",
       "      <th>1</th>\n",
       "      <td>17-05-2023</td>\n",
       "      <td>Michael Allen</td>\n",
       "      <td>642877</td>\n",
       "      <td>H</td>\n",
       "      <td>08-03-1941</td>\n",
       "      <td>28053</td>\n",
       "      <td>5</td>\n",
       "      <td>tylerjoyce@example.com</td>\n",
       "    </tr>\n",
       "    <tr>\n",
       "      <th>2</th>\n",
       "      <td>08-07-2023</td>\n",
       "      <td>Christopher Allen</td>\n",
       "      <td>501380</td>\n",
       "      <td>M</td>\n",
       "      <td>27-10-1996</td>\n",
       "      <td>28018</td>\n",
       "      <td>1</td>\n",
       "      <td>andrew03@example.com</td>\n",
       "    </tr>\n",
       "    <tr>\n",
       "      <th>3</th>\n",
       "      <td>05-06-2023</td>\n",
       "      <td>Cheryl Cooper</td>\n",
       "      <td>136811</td>\n",
       "      <td>H</td>\n",
       "      <td>04-09-2003</td>\n",
       "      <td>28019</td>\n",
       "      <td>2</td>\n",
       "      <td>sullivanmichael@example.com</td>\n",
       "    </tr>\n",
       "    <tr>\n",
       "      <th>4</th>\n",
       "      <td>07-05-2023</td>\n",
       "      <td>Christopher Carpenter</td>\n",
       "      <td>647461</td>\n",
       "      <td>M</td>\n",
       "      <td>08-01-1942</td>\n",
       "      <td>28053</td>\n",
       "      <td>2</td>\n",
       "      <td>myoder@example.net</td>\n",
       "    </tr>\n",
       "    <tr>\n",
       "      <th>...</th>\n",
       "      <td>...</td>\n",
       "      <td>...</td>\n",
       "      <td>...</td>\n",
       "      <td>...</td>\n",
       "      <td>...</td>\n",
       "      <td>...</td>\n",
       "      <td>...</td>\n",
       "      <td>...</td>\n",
       "    </tr>\n",
       "    <tr>\n",
       "      <th>495</th>\n",
       "      <td>21-02-2023</td>\n",
       "      <td>Jordan Christensen</td>\n",
       "      <td>239240</td>\n",
       "      <td>H</td>\n",
       "      <td>29-10-2003</td>\n",
       "      <td>28070</td>\n",
       "      <td>5</td>\n",
       "      <td>annarichard@example.org</td>\n",
       "    </tr>\n",
       "    <tr>\n",
       "      <th>496</th>\n",
       "      <td>29-05-2023</td>\n",
       "      <td>Kelly Miller</td>\n",
       "      <td>427549</td>\n",
       "      <td>M</td>\n",
       "      <td>19-06-2003</td>\n",
       "      <td>28010</td>\n",
       "      <td>3</td>\n",
       "      <td>kaitlinbell@example.com</td>\n",
       "    </tr>\n",
       "    <tr>\n",
       "      <th>497</th>\n",
       "      <td>17-06-2023</td>\n",
       "      <td>Erica Jordan</td>\n",
       "      <td>663794</td>\n",
       "      <td>M</td>\n",
       "      <td>01-11-1948</td>\n",
       "      <td>28024</td>\n",
       "      <td>0</td>\n",
       "      <td>bushkeith@example.org</td>\n",
       "    </tr>\n",
       "    <tr>\n",
       "      <th>498</th>\n",
       "      <td>11-03-2023</td>\n",
       "      <td>Jaime Glover</td>\n",
       "      <td>436490</td>\n",
       "      <td>H</td>\n",
       "      <td>06-05-1929</td>\n",
       "      <td>28086</td>\n",
       "      <td>5</td>\n",
       "      <td>johnsontracy@example.com</td>\n",
       "    </tr>\n",
       "    <tr>\n",
       "      <th>499</th>\n",
       "      <td>29-06-2023</td>\n",
       "      <td>Madison Smith</td>\n",
       "      <td>930710</td>\n",
       "      <td>H</td>\n",
       "      <td>21-09-1958</td>\n",
       "      <td>28053</td>\n",
       "      <td>4</td>\n",
       "      <td>rodriguezcraig@example.com</td>\n",
       "    </tr>\n",
       "  </tbody>\n",
       "</table>\n",
       "<p>500 rows × 8 columns</p>\n",
       "</div>"
      ],
      "text/plain": [
       "    fecha_registro                 nombre  user_id sexo fecha_nacimiento   \n",
       "0       27-02-2023         Scott Williams   390424    H       16-08-1975  \\\n",
       "1       17-05-2023          Michael Allen   642877    H       08-03-1941   \n",
       "2       08-07-2023      Christopher Allen   501380    M       27-10-1996   \n",
       "3       05-06-2023          Cheryl Cooper   136811    H       04-09-2003   \n",
       "4       07-05-2023  Christopher Carpenter   647461    M       08-01-1942   \n",
       "..             ...                    ...      ...  ...              ...   \n",
       "495     21-02-2023     Jordan Christensen   239240    H       29-10-2003   \n",
       "496     29-05-2023           Kelly Miller   427549    M       19-06-2003   \n",
       "497     17-06-2023           Erica Jordan   663794    M       01-11-1948   \n",
       "498     11-03-2023           Jaime Glover   436490    H       06-05-1929   \n",
       "499     29-06-2023          Madison Smith   930710    H       21-09-1958   \n",
       "\n",
       "        cp  n_hijos_menores                        email  \n",
       "0    28049                4     tararichards@example.org  \n",
       "1    28053                5       tylerjoyce@example.com  \n",
       "2    28018                1         andrew03@example.com  \n",
       "3    28019                2  sullivanmichael@example.com  \n",
       "4    28053                2           myoder@example.net  \n",
       "..     ...              ...                          ...  \n",
       "495  28070                5      annarichard@example.org  \n",
       "496  28010                3      kaitlinbell@example.com  \n",
       "497  28024                0        bushkeith@example.org  \n",
       "498  28086                5     johnsontracy@example.com  \n",
       "499  28053                4   rodriguezcraig@example.com  \n",
       "\n",
       "[500 rows x 8 columns]"
      ]
     },
     "execution_count": 67,
     "metadata": {},
     "output_type": "execute_result"
    }
   ],
   "source": [
    "VALID_POSTAL_CODES = [\n",
    "    28001, 28002, 28003, 28004, 28005, 28006, 28007, 28008, 28009, 28010,\n",
    "    28011, 28012, 28013, 28014, 28015, 28016, 28017, 28018, 28019, 28020,\n",
    "    28021, 28022, 28023, 28024, 28025, 28026, 28027, 28028, 28029, 28030,\n",
    "    28031, 28032, 28033, 28034, 28035, 28036, 28037, 28038, 28039, 28040,\n",
    "    28041, 28042, 28043, 28044, 28045, 28046, 28047, 28048, 28049, 28050,\n",
    "    28051, 28052, 28053, 28054, 28055, 28070, 28071, 28080, 28082, 28083,\n",
    "    28085, 28086, 28087\n",
    "]\n",
    "\n",
    "def generate_unique_database(num_rows):\n",
    "    fake = Faker()\n",
    "    database = set()\n",
    "    email_set = set()\n",
    "    user_id_set = set()\n",
    "\n",
    "    start_date = datetime(2023, 1, 1)\n",
    "    end_date = datetime.now()\n",
    "\n",
    "    while len(database) < num_rows:\n",
    "        fecha = fake.date_of_birth(minimum_age=18, maximum_age=100).strftime(\"%d-%m-%Y\")\n",
    "        nombre = fake.name()\n",
    "        cp = random.choice(VALID_POSTAL_CODES)\n",
    "        \n",
    "        n_hijos_menores = random.randint(0, 5)\n",
    "        sexo = random.choice([\"M\", \"H\"])\n",
    "\n",
    "        while True:\n",
    "            email = fake.email()\n",
    "            if email not in email_set:\n",
    "                email_set.add(email)\n",
    "                break\n",
    "\n",
    "        while True:\n",
    "            user_id = random.randint(100000, 999999)\n",
    "            if user_id not in user_id_set:\n",
    "                user_id_set.add(user_id)\n",
    "                break\n",
    "        \n",
    "        registration_date = fake.date_between(start_date=start_date, end_date=end_date).strftime(\"%d-%m-%Y\")\n",
    "        \n",
    "        row = (registration_date, nombre, user_id, sexo, fecha, cp, n_hijos_menores, email)\n",
    "        database.add(row)\n",
    "\n",
    "    return list(database)\n",
    "\n",
    "# Example usage:\n",
    "num_rows = 500\n",
    "\n",
    "random_database = generate_unique_database(num_rows)\n",
    "\n",
    "# Convert the list of tuples to a DataFrame\n",
    "columns = [\"fecha_registro\", \"nombre\", \"user_id\", \"sexo\", \"fecha_nacimiento\", \"cp\", \"n_hijos_menores\", \"email\"]\n",
    "df = pd.DataFrame(random_database, columns=columns)\n",
    "\n",
    "# Display the DataFrame\n",
    "df"
   ]
  },
  {
   "cell_type": "code",
   "execution_count": 68,
   "metadata": {},
   "outputs": [],
   "source": [
    "# Guardamos el DataFrame a la carpeta de \"csv\" con el nombre de \"usuarios_logueados\"\n",
    "df.to_csv(\"csv/usuarios_logueados.csv\",index=False)"
   ]
  },
  {
   "cell_type": "code",
   "execution_count": 69,
   "metadata": {},
   "outputs": [
    {
     "data": {
      "text/html": [
       "<div>\n",
       "<style scoped>\n",
       "    .dataframe tbody tr th:only-of-type {\n",
       "        vertical-align: middle;\n",
       "    }\n",
       "\n",
       "    .dataframe tbody tr th {\n",
       "        vertical-align: top;\n",
       "    }\n",
       "\n",
       "    .dataframe thead th {\n",
       "        text-align: right;\n",
       "    }\n",
       "</style>\n",
       "<table border=\"1\" class=\"dataframe\">\n",
       "  <thead>\n",
       "    <tr style=\"text-align: right;\">\n",
       "      <th></th>\n",
       "      <th>fecha_registro</th>\n",
       "      <th>nombre</th>\n",
       "      <th>user_id</th>\n",
       "      <th>sexo</th>\n",
       "      <th>fecha_nacimiento</th>\n",
       "      <th>cp</th>\n",
       "      <th>n_hijos_menores</th>\n",
       "      <th>email</th>\n",
       "    </tr>\n",
       "  </thead>\n",
       "  <tbody>\n",
       "    <tr>\n",
       "      <th>0</th>\n",
       "      <td>27-02-2023</td>\n",
       "      <td>Scott Williams</td>\n",
       "      <td>390424</td>\n",
       "      <td>H</td>\n",
       "      <td>16-08-1975</td>\n",
       "      <td>28049</td>\n",
       "      <td>4</td>\n",
       "      <td>tararichards@example.org</td>\n",
       "    </tr>\n",
       "    <tr>\n",
       "      <th>1</th>\n",
       "      <td>17-05-2023</td>\n",
       "      <td>Michael Allen</td>\n",
       "      <td>642877</td>\n",
       "      <td>H</td>\n",
       "      <td>08-03-1941</td>\n",
       "      <td>28053</td>\n",
       "      <td>5</td>\n",
       "      <td>tylerjoyce@example.com</td>\n",
       "    </tr>\n",
       "    <tr>\n",
       "      <th>2</th>\n",
       "      <td>08-07-2023</td>\n",
       "      <td>Christopher Allen</td>\n",
       "      <td>501380</td>\n",
       "      <td>M</td>\n",
       "      <td>27-10-1996</td>\n",
       "      <td>28018</td>\n",
       "      <td>1</td>\n",
       "      <td>andrew03@example.com</td>\n",
       "    </tr>\n",
       "    <tr>\n",
       "      <th>3</th>\n",
       "      <td>05-06-2023</td>\n",
       "      <td>Cheryl Cooper</td>\n",
       "      <td>136811</td>\n",
       "      <td>H</td>\n",
       "      <td>04-09-2003</td>\n",
       "      <td>28019</td>\n",
       "      <td>2</td>\n",
       "      <td>sullivanmichael@example.com</td>\n",
       "    </tr>\n",
       "    <tr>\n",
       "      <th>4</th>\n",
       "      <td>07-05-2023</td>\n",
       "      <td>Christopher Carpenter</td>\n",
       "      <td>647461</td>\n",
       "      <td>M</td>\n",
       "      <td>08-01-1942</td>\n",
       "      <td>28053</td>\n",
       "      <td>2</td>\n",
       "      <td>myoder@example.net</td>\n",
       "    </tr>\n",
       "    <tr>\n",
       "      <th>...</th>\n",
       "      <td>...</td>\n",
       "      <td>...</td>\n",
       "      <td>...</td>\n",
       "      <td>...</td>\n",
       "      <td>...</td>\n",
       "      <td>...</td>\n",
       "      <td>...</td>\n",
       "      <td>...</td>\n",
       "    </tr>\n",
       "    <tr>\n",
       "      <th>495</th>\n",
       "      <td>21-02-2023</td>\n",
       "      <td>Jordan Christensen</td>\n",
       "      <td>239240</td>\n",
       "      <td>H</td>\n",
       "      <td>29-10-2003</td>\n",
       "      <td>28070</td>\n",
       "      <td>5</td>\n",
       "      <td>annarichard@example.org</td>\n",
       "    </tr>\n",
       "    <tr>\n",
       "      <th>496</th>\n",
       "      <td>29-05-2023</td>\n",
       "      <td>Kelly Miller</td>\n",
       "      <td>427549</td>\n",
       "      <td>M</td>\n",
       "      <td>19-06-2003</td>\n",
       "      <td>28010</td>\n",
       "      <td>3</td>\n",
       "      <td>kaitlinbell@example.com</td>\n",
       "    </tr>\n",
       "    <tr>\n",
       "      <th>497</th>\n",
       "      <td>17-06-2023</td>\n",
       "      <td>Erica Jordan</td>\n",
       "      <td>663794</td>\n",
       "      <td>M</td>\n",
       "      <td>01-11-1948</td>\n",
       "      <td>28024</td>\n",
       "      <td>0</td>\n",
       "      <td>bushkeith@example.org</td>\n",
       "    </tr>\n",
       "    <tr>\n",
       "      <th>498</th>\n",
       "      <td>11-03-2023</td>\n",
       "      <td>Jaime Glover</td>\n",
       "      <td>436490</td>\n",
       "      <td>H</td>\n",
       "      <td>06-05-1929</td>\n",
       "      <td>28086</td>\n",
       "      <td>5</td>\n",
       "      <td>johnsontracy@example.com</td>\n",
       "    </tr>\n",
       "    <tr>\n",
       "      <th>499</th>\n",
       "      <td>29-06-2023</td>\n",
       "      <td>Madison Smith</td>\n",
       "      <td>930710</td>\n",
       "      <td>H</td>\n",
       "      <td>21-09-1958</td>\n",
       "      <td>28053</td>\n",
       "      <td>4</td>\n",
       "      <td>rodriguezcraig@example.com</td>\n",
       "    </tr>\n",
       "  </tbody>\n",
       "</table>\n",
       "<p>500 rows × 8 columns</p>\n",
       "</div>"
      ],
      "text/plain": [
       "    fecha_registro                 nombre  user_id sexo fecha_nacimiento   \n",
       "0       27-02-2023         Scott Williams   390424    H       16-08-1975  \\\n",
       "1       17-05-2023          Michael Allen   642877    H       08-03-1941   \n",
       "2       08-07-2023      Christopher Allen   501380    M       27-10-1996   \n",
       "3       05-06-2023          Cheryl Cooper   136811    H       04-09-2003   \n",
       "4       07-05-2023  Christopher Carpenter   647461    M       08-01-1942   \n",
       "..             ...                    ...      ...  ...              ...   \n",
       "495     21-02-2023     Jordan Christensen   239240    H       29-10-2003   \n",
       "496     29-05-2023           Kelly Miller   427549    M       19-06-2003   \n",
       "497     17-06-2023           Erica Jordan   663794    M       01-11-1948   \n",
       "498     11-03-2023           Jaime Glover   436490    H       06-05-1929   \n",
       "499     29-06-2023          Madison Smith   930710    H       21-09-1958   \n",
       "\n",
       "        cp  n_hijos_menores                        email  \n",
       "0    28049                4     tararichards@example.org  \n",
       "1    28053                5       tylerjoyce@example.com  \n",
       "2    28018                1         andrew03@example.com  \n",
       "3    28019                2  sullivanmichael@example.com  \n",
       "4    28053                2           myoder@example.net  \n",
       "..     ...              ...                          ...  \n",
       "495  28070                5      annarichard@example.org  \n",
       "496  28010                3      kaitlinbell@example.com  \n",
       "497  28024                0        bushkeith@example.org  \n",
       "498  28086                5     johnsontracy@example.com  \n",
       "499  28053                4   rodriguezcraig@example.com  \n",
       "\n",
       "[500 rows x 8 columns]"
      ]
     },
     "execution_count": 69,
     "metadata": {},
     "output_type": "execute_result"
    }
   ],
   "source": [
    "# Leemos el DataFrame\n",
    "df = pd.read_csv(\"csv/usuarios_logueados.csv\")\n",
    "df"
   ]
  },
  {
   "cell_type": "code",
   "execution_count": 70,
   "metadata": {},
   "outputs": [
    {
     "data": {
      "text/plain": [
       "fecha_registro      object\n",
       "nombre              object\n",
       "user_id              int64\n",
       "sexo                object\n",
       "fecha_nacimiento    object\n",
       "cp                   int64\n",
       "n_hijos_menores      int64\n",
       "email               object\n",
       "dtype: object"
      ]
     },
     "execution_count": 70,
     "metadata": {},
     "output_type": "execute_result"
    }
   ],
   "source": [
    "df.dtypes"
   ]
  },
  {
   "cell_type": "code",
   "execution_count": 71,
   "metadata": {},
   "outputs": [
    {
     "name": "stdout",
     "output_type": "stream",
     "text": [
      "<class 'pandas.core.frame.DataFrame'>\n",
      "RangeIndex: 500 entries, 0 to 499\n",
      "Data columns (total 8 columns):\n",
      " #   Column            Non-Null Count  Dtype \n",
      "---  ------            --------------  ----- \n",
      " 0   fecha_registro    500 non-null    object\n",
      " 1   nombre            500 non-null    object\n",
      " 2   user_id           500 non-null    int64 \n",
      " 3   sexo              500 non-null    object\n",
      " 4   fecha_nacimiento  500 non-null    object\n",
      " 5   cp                500 non-null    int64 \n",
      " 6   n_hijos_menores   500 non-null    int64 \n",
      " 7   email             500 non-null    object\n",
      "dtypes: int64(3), object(5)\n",
      "memory usage: 31.4+ KB\n"
     ]
    }
   ],
   "source": [
    "# Observamos que la cantidad de datos es bastante grande con 319755 filas y 18 columnas\n",
    "# No nos encontramos con valores nulos\n",
    "# Tenemos valores de tipo objeto y float\n",
    "df.info()"
   ]
  },
  {
   "cell_type": "code",
   "execution_count": 72,
   "metadata": {},
   "outputs": [
    {
     "data": {
      "text/plain": [
       "fecha_registro      0\n",
       "nombre              0\n",
       "user_id             0\n",
       "sexo                0\n",
       "fecha_nacimiento    0\n",
       "cp                  0\n",
       "n_hijos_menores     0\n",
       "email               0\n",
       "dtype: int64"
      ]
     },
     "execution_count": 72,
     "metadata": {},
     "output_type": "execute_result"
    }
   ],
   "source": [
    "# Nos asecuramos de que no hay valores nulos en ninguna columna\n",
    "df.isnull().sum()"
   ]
  },
  {
   "cell_type": "markdown",
   "metadata": {},
   "source": [
    "### 1. Fecha_registro"
   ]
  },
  {
   "cell_type": "code",
   "execution_count": 73,
   "metadata": {},
   "outputs": [],
   "source": [
    "# Convertimos la columna 'fecha_registro' a tipo datetime\n",
    "df['fecha_registro'] = pd.to_datetime(df['fecha_registro'], format='%d-%m-%Y')"
   ]
  },
  {
   "cell_type": "markdown",
   "metadata": {},
   "source": [
    "### 2. Sexo"
   ]
  },
  {
   "cell_type": "code",
   "execution_count": 74,
   "metadata": {},
   "outputs": [],
   "source": [
    "# De la columna de \"Sexo\"\n",
    "df[\"sexo\"][df[\"sexo\"] == \"M\"] = 0 # mujer\n",
    "df[\"sexo\"][df[\"sexo\"] == \"H\"] = 1 # hombre\n",
    "\n",
    "# Cambio de tipo objet a tipo int\n",
    "df[\"sexo\"] = df[\"sexo\"].astype(int)"
   ]
  },
  {
   "cell_type": "markdown",
   "metadata": {},
   "source": [
    "### 3. Fecha_nacimiento"
   ]
  },
  {
   "cell_type": "code",
   "execution_count": 75,
   "metadata": {},
   "outputs": [],
   "source": [
    "# Convertimos la columna 'fecha_nacimiento' a tipo datetime\n",
    "df['fecha_nacimiento'] = pd.to_datetime(df['fecha_nacimiento'], format='%d-%m-%Y')"
   ]
  },
  {
   "cell_type": "code",
   "execution_count": 76,
   "metadata": {},
   "outputs": [
    {
     "data": {
      "text/plain": [
       "Timestamp('2023-07-27 12:10:07.776998')"
      ]
     },
     "execution_count": 76,
     "metadata": {},
     "output_type": "execute_result"
    }
   ],
   "source": [
    "# Calculamos la edad que tendrán hoy los usuarios\n",
    "hoy = pd.to_datetime('today')\n",
    "hoy"
   ]
  },
  {
   "cell_type": "code",
   "execution_count": 77,
   "metadata": {},
   "outputs": [
    {
     "data": {
      "text/plain": [
       "0      48\n",
       "1      82\n",
       "2      27\n",
       "3      20\n",
       "4      81\n",
       "       ..\n",
       "495    20\n",
       "496    20\n",
       "497    75\n",
       "498    94\n",
       "499    65\n",
       "Name: edad, Length: 500, dtype: int32"
      ]
     },
     "execution_count": 77,
     "metadata": {},
     "output_type": "execute_result"
    }
   ],
   "source": [
    "df['edad'] = hoy.year - df['fecha_nacimiento'].dt.year\n",
    "df[\"edad\"]"
   ]
  },
  {
   "cell_type": "markdown",
   "metadata": {},
   "source": [
    "### 4. "
   ]
  },
  {
   "cell_type": "code",
   "execution_count": 78,
   "metadata": {},
   "outputs": [],
   "source": [
    "# Eliminación de la columna 'fecha_nacimiento', ya que ahora tenemos la edad en su lugar\n",
    "df.drop([\"fecha_nacimiento\", \"nombre\", \"email\"], axis=1, inplace=True)"
   ]
  },
  {
   "cell_type": "code",
   "execution_count": 79,
   "metadata": {},
   "outputs": [
    {
     "data": {
      "text/html": [
       "<div>\n",
       "<style scoped>\n",
       "    .dataframe tbody tr th:only-of-type {\n",
       "        vertical-align: middle;\n",
       "    }\n",
       "\n",
       "    .dataframe tbody tr th {\n",
       "        vertical-align: top;\n",
       "    }\n",
       "\n",
       "    .dataframe thead th {\n",
       "        text-align: right;\n",
       "    }\n",
       "</style>\n",
       "<table border=\"1\" class=\"dataframe\">\n",
       "  <thead>\n",
       "    <tr style=\"text-align: right;\">\n",
       "      <th></th>\n",
       "      <th>fecha_registro</th>\n",
       "      <th>user_id</th>\n",
       "      <th>sexo</th>\n",
       "      <th>cp</th>\n",
       "      <th>n_hijos_menores</th>\n",
       "      <th>edad</th>\n",
       "    </tr>\n",
       "  </thead>\n",
       "  <tbody>\n",
       "    <tr>\n",
       "      <th>0</th>\n",
       "      <td>2023-02-27</td>\n",
       "      <td>390424</td>\n",
       "      <td>1</td>\n",
       "      <td>28049</td>\n",
       "      <td>4</td>\n",
       "      <td>48</td>\n",
       "    </tr>\n",
       "    <tr>\n",
       "      <th>1</th>\n",
       "      <td>2023-05-17</td>\n",
       "      <td>642877</td>\n",
       "      <td>1</td>\n",
       "      <td>28053</td>\n",
       "      <td>5</td>\n",
       "      <td>82</td>\n",
       "    </tr>\n",
       "    <tr>\n",
       "      <th>2</th>\n",
       "      <td>2023-07-08</td>\n",
       "      <td>501380</td>\n",
       "      <td>0</td>\n",
       "      <td>28018</td>\n",
       "      <td>1</td>\n",
       "      <td>27</td>\n",
       "    </tr>\n",
       "    <tr>\n",
       "      <th>3</th>\n",
       "      <td>2023-06-05</td>\n",
       "      <td>136811</td>\n",
       "      <td>1</td>\n",
       "      <td>28019</td>\n",
       "      <td>2</td>\n",
       "      <td>20</td>\n",
       "    </tr>\n",
       "    <tr>\n",
       "      <th>4</th>\n",
       "      <td>2023-05-07</td>\n",
       "      <td>647461</td>\n",
       "      <td>0</td>\n",
       "      <td>28053</td>\n",
       "      <td>2</td>\n",
       "      <td>81</td>\n",
       "    </tr>\n",
       "    <tr>\n",
       "      <th>...</th>\n",
       "      <td>...</td>\n",
       "      <td>...</td>\n",
       "      <td>...</td>\n",
       "      <td>...</td>\n",
       "      <td>...</td>\n",
       "      <td>...</td>\n",
       "    </tr>\n",
       "    <tr>\n",
       "      <th>495</th>\n",
       "      <td>2023-02-21</td>\n",
       "      <td>239240</td>\n",
       "      <td>1</td>\n",
       "      <td>28070</td>\n",
       "      <td>5</td>\n",
       "      <td>20</td>\n",
       "    </tr>\n",
       "    <tr>\n",
       "      <th>496</th>\n",
       "      <td>2023-05-29</td>\n",
       "      <td>427549</td>\n",
       "      <td>0</td>\n",
       "      <td>28010</td>\n",
       "      <td>3</td>\n",
       "      <td>20</td>\n",
       "    </tr>\n",
       "    <tr>\n",
       "      <th>497</th>\n",
       "      <td>2023-06-17</td>\n",
       "      <td>663794</td>\n",
       "      <td>0</td>\n",
       "      <td>28024</td>\n",
       "      <td>0</td>\n",
       "      <td>75</td>\n",
       "    </tr>\n",
       "    <tr>\n",
       "      <th>498</th>\n",
       "      <td>2023-03-11</td>\n",
       "      <td>436490</td>\n",
       "      <td>1</td>\n",
       "      <td>28086</td>\n",
       "      <td>5</td>\n",
       "      <td>94</td>\n",
       "    </tr>\n",
       "    <tr>\n",
       "      <th>499</th>\n",
       "      <td>2023-06-29</td>\n",
       "      <td>930710</td>\n",
       "      <td>1</td>\n",
       "      <td>28053</td>\n",
       "      <td>4</td>\n",
       "      <td>65</td>\n",
       "    </tr>\n",
       "  </tbody>\n",
       "</table>\n",
       "<p>500 rows × 6 columns</p>\n",
       "</div>"
      ],
      "text/plain": [
       "    fecha_registro  user_id  sexo     cp  n_hijos_menores  edad\n",
       "0       2023-02-27   390424     1  28049                4    48\n",
       "1       2023-05-17   642877     1  28053                5    82\n",
       "2       2023-07-08   501380     0  28018                1    27\n",
       "3       2023-06-05   136811     1  28019                2    20\n",
       "4       2023-05-07   647461     0  28053                2    81\n",
       "..             ...      ...   ...    ...              ...   ...\n",
       "495     2023-02-21   239240     1  28070                5    20\n",
       "496     2023-05-29   427549     0  28010                3    20\n",
       "497     2023-06-17   663794     0  28024                0    75\n",
       "498     2023-03-11   436490     1  28086                5    94\n",
       "499     2023-06-29   930710     1  28053                4    65\n",
       "\n",
       "[500 rows x 6 columns]"
      ]
     },
     "execution_count": 79,
     "metadata": {},
     "output_type": "execute_result"
    }
   ],
   "source": [
    "df"
   ]
  },
  {
   "cell_type": "code",
   "execution_count": 80,
   "metadata": {},
   "outputs": [
    {
     "data": {
      "text/plain": [
       "fecha_registro     datetime64[ns]\n",
       "user_id                     int64\n",
       "sexo                        int32\n",
       "cp                          int64\n",
       "n_hijos_menores             int64\n",
       "edad                        int32\n",
       "dtype: object"
      ]
     },
     "execution_count": 80,
     "metadata": {},
     "output_type": "execute_result"
    }
   ],
   "source": [
    "df.dtypes"
   ]
  },
  {
   "cell_type": "code",
   "execution_count": 81,
   "metadata": {},
   "outputs": [
    {
     "data": {
      "text/html": [
       "<div>\n",
       "<style scoped>\n",
       "    .dataframe tbody tr th:only-of-type {\n",
       "        vertical-align: middle;\n",
       "    }\n",
       "\n",
       "    .dataframe tbody tr th {\n",
       "        vertical-align: top;\n",
       "    }\n",
       "\n",
       "    .dataframe thead th {\n",
       "        text-align: right;\n",
       "    }\n",
       "</style>\n",
       "<table border=\"1\" class=\"dataframe\">\n",
       "  <thead>\n",
       "    <tr style=\"text-align: right;\">\n",
       "      <th></th>\n",
       "      <th>fecha_registro</th>\n",
       "      <th>user_id</th>\n",
       "      <th>sexo</th>\n",
       "      <th>cp</th>\n",
       "      <th>n_hijos_menores</th>\n",
       "      <th>edad</th>\n",
       "    </tr>\n",
       "  </thead>\n",
       "  <tbody>\n",
       "    <tr>\n",
       "      <th>count</th>\n",
       "      <td>500</td>\n",
       "      <td>500.00000</td>\n",
       "      <td>500.0000</td>\n",
       "      <td>500.000000</td>\n",
       "      <td>500.000000</td>\n",
       "      <td>500.000000</td>\n",
       "    </tr>\n",
       "    <tr>\n",
       "      <th>mean</th>\n",
       "      <td>2023-04-14 10:36:28.800000256</td>\n",
       "      <td>547544.11400</td>\n",
       "      <td>0.5200</td>\n",
       "      <td>28033.232000</td>\n",
       "      <td>2.536000</td>\n",
       "      <td>59.384000</td>\n",
       "    </tr>\n",
       "    <tr>\n",
       "      <th>min</th>\n",
       "      <td>2023-01-01 00:00:00</td>\n",
       "      <td>100868.00000</td>\n",
       "      <td>0.0000</td>\n",
       "      <td>28001.000000</td>\n",
       "      <td>0.000000</td>\n",
       "      <td>18.000000</td>\n",
       "    </tr>\n",
       "    <tr>\n",
       "      <th>25%</th>\n",
       "      <td>2023-02-26 18:00:00</td>\n",
       "      <td>312053.25000</td>\n",
       "      <td>0.0000</td>\n",
       "      <td>28015.000000</td>\n",
       "      <td>1.000000</td>\n",
       "      <td>38.000000</td>\n",
       "    </tr>\n",
       "    <tr>\n",
       "      <th>50%</th>\n",
       "      <td>2023-04-17 00:00:00</td>\n",
       "      <td>554514.50000</td>\n",
       "      <td>1.0000</td>\n",
       "      <td>28032.000000</td>\n",
       "      <td>3.000000</td>\n",
       "      <td>61.000000</td>\n",
       "    </tr>\n",
       "    <tr>\n",
       "      <th>75%</th>\n",
       "      <td>2023-05-31 00:00:00</td>\n",
       "      <td>771320.25000</td>\n",
       "      <td>1.0000</td>\n",
       "      <td>28046.250000</td>\n",
       "      <td>4.000000</td>\n",
       "      <td>81.000000</td>\n",
       "    </tr>\n",
       "    <tr>\n",
       "      <th>max</th>\n",
       "      <td>2023-07-26 00:00:00</td>\n",
       "      <td>999284.00000</td>\n",
       "      <td>1.0000</td>\n",
       "      <td>28087.000000</td>\n",
       "      <td>5.000000</td>\n",
       "      <td>101.000000</td>\n",
       "    </tr>\n",
       "    <tr>\n",
       "      <th>std</th>\n",
       "      <td>NaN</td>\n",
       "      <td>263068.99842</td>\n",
       "      <td>0.5001</td>\n",
       "      <td>21.771039</td>\n",
       "      <td>1.788603</td>\n",
       "      <td>24.750631</td>\n",
       "    </tr>\n",
       "  </tbody>\n",
       "</table>\n",
       "</div>"
      ],
      "text/plain": [
       "                      fecha_registro       user_id      sexo            cp   \n",
       "count                            500     500.00000  500.0000    500.000000  \\\n",
       "mean   2023-04-14 10:36:28.800000256  547544.11400    0.5200  28033.232000   \n",
       "min              2023-01-01 00:00:00  100868.00000    0.0000  28001.000000   \n",
       "25%              2023-02-26 18:00:00  312053.25000    0.0000  28015.000000   \n",
       "50%              2023-04-17 00:00:00  554514.50000    1.0000  28032.000000   \n",
       "75%              2023-05-31 00:00:00  771320.25000    1.0000  28046.250000   \n",
       "max              2023-07-26 00:00:00  999284.00000    1.0000  28087.000000   \n",
       "std                              NaN  263068.99842    0.5001     21.771039   \n",
       "\n",
       "       n_hijos_menores        edad  \n",
       "count       500.000000  500.000000  \n",
       "mean          2.536000   59.384000  \n",
       "min           0.000000   18.000000  \n",
       "25%           1.000000   38.000000  \n",
       "50%           3.000000   61.000000  \n",
       "75%           4.000000   81.000000  \n",
       "max           5.000000  101.000000  \n",
       "std           1.788603   24.750631  "
      ]
     },
     "execution_count": 81,
     "metadata": {},
     "output_type": "execute_result"
    }
   ],
   "source": [
    "df.describe()"
   ]
  },
  {
   "cell_type": "code",
   "execution_count": 82,
   "metadata": {},
   "outputs": [
    {
     "name": "stdout",
     "output_type": "stream",
     "text": [
      "sexo sexo\n",
      "1    260\n",
      "0    240\n",
      "Name: count, dtype: int64\n",
      "cp cp\n",
      "28039    14\n",
      "28007    13\n",
      "28049    12\n",
      "28048    12\n",
      "28053    11\n",
      "         ..\n",
      "28030     5\n",
      "28031     5\n",
      "28004     4\n",
      "28085     3\n",
      "28018     3\n",
      "Name: count, Length: 63, dtype: int64\n",
      "n_hijos_menores n_hijos_menores\n",
      "5    100\n",
      "0     95\n",
      "3     84\n",
      "1     76\n",
      "4     75\n",
      "2     70\n",
      "Name: count, dtype: int64\n",
      "edad edad\n",
      "30     12\n",
      "24     11\n",
      "96     11\n",
      "66     11\n",
      "90     11\n",
      "       ..\n",
      "62      1\n",
      "91      1\n",
      "73      1\n",
      "101     1\n",
      "41      1\n",
      "Name: count, Length: 83, dtype: int64\n"
     ]
    }
   ],
   "source": [
    "# Para saber como de balanceados están los datos\n",
    "columns_to_count =[\"sexo\", \"cp\", \"n_hijos_menores\", \"edad\"]\n",
    "for column in columns_to_count:\n",
    "    value_counts = df[column].value_counts()\n",
    "    print(column, value_counts)"
   ]
  },
  {
   "cell_type": "markdown",
   "metadata": {},
   "source": [
    "#### VISUALIZACIONES POR \"FECHA_REGISTRO\""
   ]
  },
  {
   "cell_type": "code",
   "execution_count": 83,
   "metadata": {},
   "outputs": [
    {
     "data": {
      "text/html": [
       "<div>\n",
       "<style scoped>\n",
       "    .dataframe tbody tr th:only-of-type {\n",
       "        vertical-align: middle;\n",
       "    }\n",
       "\n",
       "    .dataframe tbody tr th {\n",
       "        vertical-align: top;\n",
       "    }\n",
       "\n",
       "    .dataframe thead th {\n",
       "        text-align: right;\n",
       "    }\n",
       "</style>\n",
       "<table border=\"1\" class=\"dataframe\">\n",
       "  <thead>\n",
       "    <tr style=\"text-align: right;\">\n",
       "      <th></th>\n",
       "      <th>fecha_registro</th>\n",
       "      <th>user_id</th>\n",
       "      <th>sexo</th>\n",
       "      <th>cp</th>\n",
       "      <th>n_hijos_menores</th>\n",
       "      <th>edad</th>\n",
       "    </tr>\n",
       "  </thead>\n",
       "  <tbody>\n",
       "    <tr>\n",
       "      <th>0</th>\n",
       "      <td>2023-02-27</td>\n",
       "      <td>390424</td>\n",
       "      <td>1</td>\n",
       "      <td>28049</td>\n",
       "      <td>4</td>\n",
       "      <td>48</td>\n",
       "    </tr>\n",
       "    <tr>\n",
       "      <th>1</th>\n",
       "      <td>2023-05-17</td>\n",
       "      <td>642877</td>\n",
       "      <td>1</td>\n",
       "      <td>28053</td>\n",
       "      <td>5</td>\n",
       "      <td>82</td>\n",
       "    </tr>\n",
       "    <tr>\n",
       "      <th>2</th>\n",
       "      <td>2023-07-08</td>\n",
       "      <td>501380</td>\n",
       "      <td>0</td>\n",
       "      <td>28018</td>\n",
       "      <td>1</td>\n",
       "      <td>27</td>\n",
       "    </tr>\n",
       "    <tr>\n",
       "      <th>3</th>\n",
       "      <td>2023-06-05</td>\n",
       "      <td>136811</td>\n",
       "      <td>1</td>\n",
       "      <td>28019</td>\n",
       "      <td>2</td>\n",
       "      <td>20</td>\n",
       "    </tr>\n",
       "    <tr>\n",
       "      <th>4</th>\n",
       "      <td>2023-05-07</td>\n",
       "      <td>647461</td>\n",
       "      <td>0</td>\n",
       "      <td>28053</td>\n",
       "      <td>2</td>\n",
       "      <td>81</td>\n",
       "    </tr>\n",
       "    <tr>\n",
       "      <th>...</th>\n",
       "      <td>...</td>\n",
       "      <td>...</td>\n",
       "      <td>...</td>\n",
       "      <td>...</td>\n",
       "      <td>...</td>\n",
       "      <td>...</td>\n",
       "    </tr>\n",
       "    <tr>\n",
       "      <th>495</th>\n",
       "      <td>2023-02-21</td>\n",
       "      <td>239240</td>\n",
       "      <td>1</td>\n",
       "      <td>28070</td>\n",
       "      <td>5</td>\n",
       "      <td>20</td>\n",
       "    </tr>\n",
       "    <tr>\n",
       "      <th>496</th>\n",
       "      <td>2023-05-29</td>\n",
       "      <td>427549</td>\n",
       "      <td>0</td>\n",
       "      <td>28010</td>\n",
       "      <td>3</td>\n",
       "      <td>20</td>\n",
       "    </tr>\n",
       "    <tr>\n",
       "      <th>497</th>\n",
       "      <td>2023-06-17</td>\n",
       "      <td>663794</td>\n",
       "      <td>0</td>\n",
       "      <td>28024</td>\n",
       "      <td>0</td>\n",
       "      <td>75</td>\n",
       "    </tr>\n",
       "    <tr>\n",
       "      <th>498</th>\n",
       "      <td>2023-03-11</td>\n",
       "      <td>436490</td>\n",
       "      <td>1</td>\n",
       "      <td>28086</td>\n",
       "      <td>5</td>\n",
       "      <td>94</td>\n",
       "    </tr>\n",
       "    <tr>\n",
       "      <th>499</th>\n",
       "      <td>2023-06-29</td>\n",
       "      <td>930710</td>\n",
       "      <td>1</td>\n",
       "      <td>28053</td>\n",
       "      <td>4</td>\n",
       "      <td>65</td>\n",
       "    </tr>\n",
       "  </tbody>\n",
       "</table>\n",
       "<p>500 rows × 6 columns</p>\n",
       "</div>"
      ],
      "text/plain": [
       "    fecha_registro  user_id  sexo     cp  n_hijos_menores  edad\n",
       "0       2023-02-27   390424     1  28049                4    48\n",
       "1       2023-05-17   642877     1  28053                5    82\n",
       "2       2023-07-08   501380     0  28018                1    27\n",
       "3       2023-06-05   136811     1  28019                2    20\n",
       "4       2023-05-07   647461     0  28053                2    81\n",
       "..             ...      ...   ...    ...              ...   ...\n",
       "495     2023-02-21   239240     1  28070                5    20\n",
       "496     2023-05-29   427549     0  28010                3    20\n",
       "497     2023-06-17   663794     0  28024                0    75\n",
       "498     2023-03-11   436490     1  28086                5    94\n",
       "499     2023-06-29   930710     1  28053                4    65\n",
       "\n",
       "[500 rows x 6 columns]"
      ]
     },
     "execution_count": 83,
     "metadata": {},
     "output_type": "execute_result"
    }
   ],
   "source": [
    "df"
   ]
  },
  {
   "cell_type": "code",
   "execution_count": 84,
   "metadata": {},
   "outputs": [
    {
     "data": {
      "text/plain": [
       "fecha_registro     datetime64[ns]\n",
       "user_id                     int64\n",
       "sexo                        int32\n",
       "cp                          int64\n",
       "n_hijos_menores             int64\n",
       "edad                        int32\n",
       "dtype: object"
      ]
     },
     "execution_count": 84,
     "metadata": {},
     "output_type": "execute_result"
    }
   ],
   "source": [
    "df.dtypes"
   ]
  },
  {
   "cell_type": "code",
   "execution_count": 85,
   "metadata": {},
   "outputs": [
    {
     "data": {
      "text/plain": [
       "0      2\n",
       "1      5\n",
       "2      7\n",
       "3      6\n",
       "4      5\n",
       "      ..\n",
       "495    2\n",
       "496    5\n",
       "497    6\n",
       "498    3\n",
       "499    6\n",
       "Name: mes_registro, Length: 500, dtype: int32"
      ]
     },
     "execution_count": 85,
     "metadata": {},
     "output_type": "execute_result"
    }
   ],
   "source": [
    "# Extraemos el mes de la columna 'fecha_registro'\n",
    "df['mes_registro'] = df['fecha_registro'].dt.month\n",
    "df['mes_registro']"
   ]
  },
  {
   "cell_type": "code",
   "execution_count": 86,
   "metadata": {},
   "outputs": [
    {
     "data": {
      "text/plain": [
       "mes_registro\n",
       "1    71\n",
       "2    60\n",
       "3    79\n",
       "4    78\n",
       "5    88\n",
       "6    67\n",
       "7    57\n",
       "Name: count, dtype: int64"
      ]
     },
     "execution_count": 86,
     "metadata": {},
     "output_type": "execute_result"
    }
   ],
   "source": [
    "# Contamos el número de usuarios en cada mes\n",
    "users_por_mes = df['mes_registro'].value_counts().sort_index()\n",
    "users_por_mes"
   ]
  },
  {
   "cell_type": "code",
   "execution_count": 87,
   "metadata": {},
   "outputs": [
    {
     "data": {
      "image/png": "[encoded data removed]",
      "text/plain": [
       "<Figure size 640x480 with 1 Axes>"
      ]
     },
     "metadata": {},
     "output_type": "display_data"
    },
    {
     "name": "stdout",
     "output_type": "stream",
     "text": [
      "Gráfico guardado en: c:\\Users\\alexm\\OneDrive\\Escritorio\\DESAFIO\\docs\\imagenes\\usuarios_por_mes.png\n"
     ]
    }
   ],
   "source": [
    "\n",
    "# Ruta donde se guardará la imagen creada\n",
    "current_dir = os.getcwd()\n",
    "output_file = os.path.join(current_dir, 'docs', 'imagenes', 'usuarios_por_mes.png')\n",
    "\n",
    "# Gráfico de barras para mostrar el número de usuarios por mes\n",
    "plt.bar(users_por_mes.index, users_por_mes.values)\n",
    "plt.xlabel('Mes')\n",
    "plt.ylabel('Número de usuarios')\n",
    "plt.title('Número de usuarios registrados por mes')\n",
    "plt.xticks(range(1, 13), ['Ene', 'Feb', 'Mar', 'Abr', 'May', 'Jun', 'Jul', 'Ago', 'Sep', 'Oct', 'Nov', 'Dic'])\n",
    "plt.savefig(output_file)\n",
    "plt.show()\n",
    "\n",
    "print(f\"Gráfico guardado en: {output_file}\")\n"
   ]
  },
  {
   "cell_type": "code",
   "execution_count": 88,
   "metadata": {},
   "outputs": [
    {
     "data": {
      "application/vnd.plotly.v1+json": {
       "config": {
        "plotlyServerURL": "https://plot.ly"
       },
       "data": [
        {
         "alignmentgroup": "True",
         "hovertemplate": "Mes=%{x}<br>Número de usuarios=%{y}<br>text=%{text}<extra></extra>",
         "legendgroup": "",
         "marker": {
          "color": "#636efa",
          "pattern": {
           "shape": ""
          }
         },
         "name": "",
         "offsetgroup": "",
         "orientation": "v",
         "showlegend": false,
         "text": [
          71,
          60,
          79,
          78,
          88,
          67,
          57
         ],
         "textposition": "outside",
         "texttemplate": "%{text}",
         "type": "bar",
         "x": [
          1,
          2,
          3,
          4,
          5,
          6,
          7
         ],
         "xaxis": "x",
         "y": [
          71,
          60,
          79,
          78,
          88,
          67,
          57
         ],
         "yaxis": "y"
        }
       ],
       "layout": {
        "barmode": "relative",
        "height": 600,
        "legend": {
         "tracegroupgap": 0
        },
        "template": {
         "data": {
          "bar": [
           {
            "error_x": {
             "color": "#2a3f5f"
            },
            "error_y": {
             "color": "#2a3f5f"
            },
            "marker": {
             "line": {
              "color": "white",
              "width": 0.5
             },
             "pattern": {
              "fillmode": "overlay",
              "size": 10,
              "solidity": 0.2
             }
            },
            "type": "bar"
           }
          ],
          "barpolar": [
           {
            "marker": {
             "line": {
              "color": "white",
              "width": 0.5
             },
             "pattern": {
              "fillmode": "overlay",
              "size": 10,
              "solidity": 0.2
             }
            },
            "type": "barpolar"
           }
          ],
          "carpet": [
           {
            "aaxis": {
             "endlinecolor": "#2a3f5f",
             "gridcolor": "#C8D4E3",
             "linecolor": "#C8D4E3",
             "minorgridcolor": "#C8D4E3",
             "startlinecolor": "#2a3f5f"
            },
            "baxis": {
             "endlinecolor": "#2a3f5f",
             "gridcolor": "#C8D4E3",
             "linecolor": "#C8D4E3",
             "minorgridcolor": "#C8D4E3",
             "startlinecolor": "#2a3f5f"
            },
            "type": "carpet"
           }
          ],
          "choropleth": [
           {
            "colorbar": {
             "outlinewidth": 0,
             "ticks": ""
            },
            "type": "choropleth"
           }
          ],
          "contour": [
           {
            "colorbar": {
             "outlinewidth": 0,
             "ticks": ""
            },
            "colorscale": [
             [
              0,
              "#0d0887"
             ],
             [
              0.1111111111111111,
              "#46039f"
             ],
             [
              0.2222222222222222,
              "#7201a8"
             ],
             [
              0.3333333333333333,
              "#9c179e"
             ],
             [
              0.4444444444444444,
              "#bd3786"
             ],
             [
              0.5555555555555556,
              "#d8576b"
             ],
             [
              0.6666666666666666,
              "#ed7953"
             ],
             [
              0.7777777777777778,
              "#fb9f3a"
             ],
             [
              0.8888888888888888,
              "#fdca26"
             ],
             [
              1,
              "#f0f921"
             ]
            ],
            "type": "contour"
           }
          ],
          "contourcarpet": [
           {
            "colorbar": {
             "outlinewidth": 0,
             "ticks": ""
            },
            "type": "contourcarpet"
           }
          ],
          "heatmap": [
           {
            "colorbar": {
             "outlinewidth": 0,
             "ticks": ""
            },
            "colorscale": [
             [
              0,
              "#0d0887"
             ],
             [
              0.1111111111111111,
              "#46039f"
             ],
             [
              0.2222222222222222,
              "#7201a8"
             ],
             [
              0.3333333333333333,
              "#9c179e"
             ],
             [
              0.4444444444444444,
              "#bd3786"
             ],
             [
              0.5555555555555556,
              "#d8576b"
             ],
             [
              0.6666666666666666,
              "#ed7953"
             ],
             [
              0.7777777777777778,
              "#fb9f3a"
             ],
             [
              0.8888888888888888,
              "#fdca26"
             ],
             [
              1,
              "#f0f921"
             ]
            ],
            "type": "heatmap"
           }
          ],
          "heatmapgl": [
           {
            "colorbar": {
             "outlinewidth": 0,
             "ticks": ""
            },
            "colorscale": [
             [
              0,
              "#0d0887"
             ],
             [
              0.1111111111111111,
              "#46039f"
             ],
             [
              0.2222222222222222,
              "#7201a8"
             ],
             [
              0.3333333333333333,
              "#9c179e"
             ],
             [
              0.4444444444444444,
              "#bd3786"
             ],
             [
              0.5555555555555556,
              "#d8576b"
             ],
             [
              0.6666666666666666,
              "#ed7953"
             ],
             [
              0.7777777777777778,
              "#fb9f3a"
             ],
             [
              0.8888888888888888,
              "#fdca26"
             ],
             [
              1,
              "#f0f921"
             ]
            ],
            "type": "heatmapgl"
           }
          ],
          "histogram": [
           {
            "marker": {
             "pattern": {
              "fillmode": "overlay",
              "size": 10,
              "solidity": 0.2
             }
            },
            "type": "histogram"
           }
          ],
          "histogram2d": [
           {
            "colorbar": {
             "outlinewidth": 0,
             "ticks": ""
            },
            "colorscale": [
             [
              0,
              "#0d0887"
             ],
             [
              0.1111111111111111,
              "#46039f"
             ],
             [
              0.2222222222222222,
              "#7201a8"
             ],
             [
              0.3333333333333333,
              "#9c179e"
             ],
             [
              0.4444444444444444,
              "#bd3786"
             ],
             [
              0.5555555555555556,
              "#d8576b"
             ],
             [
              0.6666666666666666,
              "#ed7953"
             ],
             [
              0.7777777777777778,
              "#fb9f3a"
             ],
             [
              0.8888888888888888,
              "#fdca26"
             ],
             [
              1,
              "#f0f921"
             ]
            ],
            "type": "histogram2d"
           }
          ],
          "histogram2dcontour": [
           {
            "colorbar": {
             "outlinewidth": 0,
             "ticks": ""
            },
            "colorscale": [
             [
              0,
              "#0d0887"
             ],
             [
              0.1111111111111111,
              "#46039f"
             ],
             [
              0.2222222222222222,
              "#7201a8"
             ],
             [
              0.3333333333333333,
              "#9c179e"
             ],
             [
              0.4444444444444444,
              "#bd3786"
             ],
             [
              0.5555555555555556,
              "#d8576b"
             ],
             [
              0.6666666666666666,
              "#ed7953"
             ],
             [
              0.7777777777777778,
              "#fb9f3a"
             ],
             [
              0.8888888888888888,
              "#fdca26"
             ],
             [
              1,
              "#f0f921"
             ]
            ],
            "type": "histogram2dcontour"
           }
          ],
          "mesh3d": [
           {
            "colorbar": {
             "outlinewidth": 0,
             "ticks": ""
            },
            "type": "mesh3d"
           }
          ],
          "parcoords": [
           {
            "line": {
             "colorbar": {
              "outlinewidth": 0,
              "ticks": ""
             }
            },
            "type": "parcoords"
           }
          ],
          "pie": [
           {
            "automargin": true,
            "type": "pie"
           }
          ],
          "scatter": [
           {
            "fillpattern": {
             "fillmode": "overlay",
             "size": 10,
             "solidity": 0.2
            },
            "type": "scatter"
           }
          ],
          "scatter3d": [
           {
            "line": {
             "colorbar": {
              "outlinewidth": 0,
              "ticks": ""
             }
            },
            "marker": {
             "colorbar": {
              "outlinewidth": 0,
              "ticks": ""
             }
            },
            "type": "scatter3d"
           }
          ],
          "scattercarpet": [
           {
            "marker": {
             "colorbar": {
              "outlinewidth": 0,
              "ticks": ""
             }
            },
            "type": "scattercarpet"
           }
          ],
          "scattergeo": [
           {
            "marker": {
             "colorbar": {
              "outlinewidth": 0,
              "ticks": ""
             }
            },
            "type": "scattergeo"
           }
          ],
          "scattergl": [
           {
            "marker": {
             "colorbar": {
              "outlinewidth": 0,
              "ticks": ""
             }
            },
            "type": "scattergl"
           }
          ],
          "scattermapbox": [
           {
            "marker": {
             "colorbar": {
              "outlinewidth": 0,
              "ticks": ""
             }
            },
            "type": "scattermapbox"
           }
          ],
          "scatterpolar": [
           {
            "marker": {
             "colorbar": {
              "outlinewidth": 0,
              "ticks": ""
             }
            },
            "type": "scatterpolar"
           }
          ],
          "scatterpolargl": [
           {
            "marker": {
             "colorbar": {
              "outlinewidth": 0,
              "ticks": ""
             }
            },
            "type": "scatterpolargl"
           }
          ],
          "scatterternary": [
           {
            "marker": {
             "colorbar": {
              "outlinewidth": 0,
              "ticks": ""
             }
            },
            "type": "scatterternary"
           }
          ],
          "surface": [
           {
            "colorbar": {
             "outlinewidth": 0,
             "ticks": ""
            },
            "colorscale": [
             [
              0,
              "#0d0887"
             ],
             [
              0.1111111111111111,
              "#46039f"
             ],
             [
              0.2222222222222222,
              "#7201a8"
             ],
             [
              0.3333333333333333,
              "#9c179e"
             ],
             [
              0.4444444444444444,
              "#bd3786"
             ],
             [
              0.5555555555555556,
              "#d8576b"
             ],
             [
              0.6666666666666666,
              "#ed7953"
             ],
             [
              0.7777777777777778,
              "#fb9f3a"
             ],
             [
              0.8888888888888888,
              "#fdca26"
             ],
             [
              1,
              "#f0f921"
             ]
            ],
            "type": "surface"
           }
          ],
          "table": [
           {
            "cells": {
             "fill": {
              "color": "#EBF0F8"
             },
             "line": {
              "color": "white"
             }
            },
            "header": {
             "fill": {
              "color": "#C8D4E3"
             },
             "line": {
              "color": "white"
             }
            },
            "type": "table"
           }
          ]
         },
         "layout": {
          "annotationdefaults": {
           "arrowcolor": "#2a3f5f",
           "arrowhead": 0,
           "arrowwidth": 1
          },
          "autotypenumbers": "strict",
          "coloraxis": {
           "colorbar": {
            "outlinewidth": 0,
            "ticks": ""
           }
          },
          "colorscale": {
           "diverging": [
            [
             0,
             "#8e0152"
            ],
            [
             0.1,
             "#c51b7d"
            ],
            [
             0.2,
             "#de77ae"
            ],
            [
             0.3,
             "#f1b6da"
            ],
            [
             0.4,
             "#fde0ef"
            ],
            [
             0.5,
             "#f7f7f7"
            ],
            [
             0.6,
             "#e6f5d0"
            ],
            [
             0.7,
             "#b8e186"
            ],
            [
             0.8,
             "#7fbc41"
            ],
            [
             0.9,
             "#4d9221"
            ],
            [
             1,
             "#276419"
            ]
           ],
           "sequential": [
            [
             0,
             "#0d0887"
            ],
            [
             0.1111111111111111,
             "#46039f"
            ],
            [
             0.2222222222222222,
             "#7201a8"
            ],
            [
             0.3333333333333333,
             "#9c179e"
            ],
            [
             0.4444444444444444,
             "#bd3786"
            ],
            [
             0.5555555555555556,
             "#d8576b"
            ],
            [
             0.6666666666666666,
             "#ed7953"
            ],
            [
             0.7777777777777778,
             "#fb9f3a"
            ],
            [
             0.8888888888888888,
             "#fdca26"
            ],
            [
             1,
             "#f0f921"
            ]
           ],
           "sequentialminus": [
            [
             0,
             "#0d0887"
            ],
            [
             0.1111111111111111,
             "#46039f"
            ],
            [
             0.2222222222222222,
             "#7201a8"
            ],
            [
             0.3333333333333333,
             "#9c179e"
            ],
            [
             0.4444444444444444,
             "#bd3786"
            ],
            [
             0.5555555555555556,
             "#d8576b"
            ],
            [
             0.6666666666666666,
             "#ed7953"
            ],
            [
             0.7777777777777778,
             "#fb9f3a"
            ],
            [
             0.8888888888888888,
             "#fdca26"
            ],
            [
             1,
             "#f0f921"
            ]
           ]
          },
          "colorway": [
           "#636efa",
           "#EF553B",
           "#00cc96",
           "#ab63fa",
           "#FFA15A",
           "#19d3f3",
           "#FF6692",
           "#B6E880",
           "#FF97FF",
           "#FECB52"
          ],
          "font": {
           "color": "#2a3f5f"
          },
          "geo": {
           "bgcolor": "white",
           "lakecolor": "white",
           "landcolor": "white",
           "showlakes": true,
           "showland": true,
           "subunitcolor": "#C8D4E3"
          },
          "hoverlabel": {
           "align": "left"
          },
          "hovermode": "closest",
          "mapbox": {
           "style": "light"
          },
          "paper_bgcolor": "white",
          "plot_bgcolor": "white",
          "polar": {
           "angularaxis": {
            "gridcolor": "#EBF0F8",
            "linecolor": "#EBF0F8",
            "ticks": ""
           },
           "bgcolor": "white",
           "radialaxis": {
            "gridcolor": "#EBF0F8",
            "linecolor": "#EBF0F8",
            "ticks": ""
           }
          },
          "scene": {
           "xaxis": {
            "backgroundcolor": "white",
            "gridcolor": "#DFE8F3",
            "gridwidth": 2,
            "linecolor": "#EBF0F8",
            "showbackground": true,
            "ticks": "",
            "zerolinecolor": "#EBF0F8"
           },
           "yaxis": {
            "backgroundcolor": "white",
            "gridcolor": "#DFE8F3",
            "gridwidth": 2,
            "linecolor": "#EBF0F8",
            "showbackground": true,
            "ticks": "",
            "zerolinecolor": "#EBF0F8"
           },
           "zaxis": {
            "backgroundcolor": "white",
            "gridcolor": "#DFE8F3",
            "gridwidth": 2,
            "linecolor": "#EBF0F8",
            "showbackground": true,
            "ticks": "",
            "zerolinecolor": "#EBF0F8"
           }
          },
          "shapedefaults": {
           "line": {
            "color": "#2a3f5f"
           }
          },
          "ternary": {
           "aaxis": {
            "gridcolor": "#DFE8F3",
            "linecolor": "#A2B1C6",
            "ticks": ""
           },
           "baxis": {
            "gridcolor": "#DFE8F3",
            "linecolor": "#A2B1C6",
            "ticks": ""
           },
           "bgcolor": "white",
           "caxis": {
            "gridcolor": "#DFE8F3",
            "linecolor": "#A2B1C6",
            "ticks": ""
           }
          },
          "title": {
           "x": 0.05
          },
          "xaxis": {
           "automargin": true,
           "gridcolor": "#EBF0F8",
           "linecolor": "#EBF0F8",
           "ticks": "",
           "title": {
            "standoff": 15
           },
           "zerolinecolor": "#EBF0F8",
           "zerolinewidth": 2
          },
          "yaxis": {
           "automargin": true,
           "gridcolor": "#EBF0F8",
           "linecolor": "#EBF0F8",
           "ticks": "",
           "title": {
            "standoff": 15
           },
           "zerolinecolor": "#EBF0F8",
           "zerolinewidth": 2
          }
         }
        },
        "title": {
         "text": "Número de usuarios registrados por mes (hasta la fecha actual)"
        },
        "xaxis": {
         "anchor": "y",
         "domain": [
          0,
          1
         ],
         "ticktext": [
          "Ene",
          "Feb",
          "Mar",
          "Abr",
          "May",
          "Jun",
          "Jul",
          "Ago",
          "Sep",
          "Oct",
          "Nov",
          "Dic"
         ],
         "tickvals": [
          1,
          2,
          3,
          4,
          5,
          6,
          7,
          8,
          9,
          10,
          11,
          12
         ],
         "title": {
          "text": "Mes"
         }
        },
        "yaxis": {
         "anchor": "x",
         "domain": [
          0,
          1
         ],
         "title": {
          "text": "Número de usuarios"
         }
        }
       }
      }
     },
     "metadata": {},
     "output_type": "display_data"
    },
    {
     "name": "stdout",
     "output_type": "stream",
     "text": [
      "Gráfico guardado en: c:\\Users\\alexm\\OneDrive\\Escritorio\\DESAFIO\\docs\\imagenes\\usuarios_por_mes_dinámico.png\n"
     ]
    }
   ],
   "source": [
    "\n",
    "import plotly.express as px\n",
    "\n",
    "\n",
    "# Filtramos el DataFrame para incluir solo fechas anteriores o iguales a la fecha actual\n",
    "fecha_actual = datetime.now()\n",
    "df = df[df['fecha_registro'] <= fecha_actual]\n",
    "\n",
    "# Extraemos el mes de la columna 'fecha_registro'\n",
    "df['mes_registro'] = df['fecha_registro'].dt.month\n",
    "\n",
    "# Contamos el número de usuarios en cada mes\n",
    "users_por_mes = df['mes_registro'].value_counts().sort_index()\n",
    "\n",
    "# Ruta donde se guardará la imagen creada\n",
    "current_dir = os.getcwd()\n",
    "output_file = os.path.join(current_dir, 'docs', 'imagenes', 'usuarios_por_mes_dinámico.png')\n",
    "\n",
    "# Creamos un gráfico interactivo de barras con plotly\n",
    "fig = px.bar(x=users_por_mes.index, y=users_por_mes.values,\n",
    "             labels={'x': 'Mes', 'y': 'Número de usuarios'},\n",
    "             title='Número de usuarios registrados por mes (hasta la fecha actual)',\n",
    "             text=users_por_mes.values,\n",
    "             template='plotly_white')\n",
    "\n",
    "fig.update_traces(texttemplate='%{text}', textposition='outside')\n",
    "fig.update_layout(xaxis_tickvals=list(range(1, 13)), xaxis_ticktext=['Ene', 'Feb', 'Mar', 'Abr', 'May', 'Jun', 'Jul', 'Ago', 'Sep', 'Oct', 'Nov', 'Dic'])\n",
    "\n",
    "# Ajustamos el tamaño del gráfico\n",
    "fig.update_layout(height=600) \n",
    "\n",
    "# Guardamos y mostramos el gráfico interactivo\n",
    "fig.write_html(output_file)\n",
    "fig.show()\n",
    "\n",
    "print(f\"Gráfico guardado en: {output_file}\")\n"
   ]
  },
  {
   "cell_type": "markdown",
   "metadata": {},
   "source": [
    "<details>\n",
    "<summary>Explicación detallada del gráfico de números de usuarios registrados por mes</summary>\n",
    "<p>\n",
    "El gráfico interactivo de barras muestra la cantidad de usuarios que se han logueado por mes, permitiendo una visualización clara de los resultados. En particular, destaca que en el mes de mayo hubo un total de 88 personas logueadas, siendo el mes con mayor cantidad de usuarios registrados. Esta representación gráfica facilita la comprensión rápida de la evolución mensual del número de usuarios logueados, lo que resulta útil para evaluar si las mejoras o cambios implementados en nuestra aplicación web han generado un mayor interés por parte de los usuarios. La simplicidad del gráfico hace que sea una herramienta efectiva para monitorear el rendimiento y la recepción de la plataforma a lo largo del tiempo.\n",
    "\n",
    "\n",
    "\n",
    "</p>\n",
    "</details>"
   ]
  },
  {
   "cell_type": "markdown",
   "metadata": {},
   "source": [
    "### VISUALIZACIONES DE LA VARIABLE DE \"SEXO\""
   ]
  },
  {
   "cell_type": "code",
   "execution_count": 89,
   "metadata": {},
   "outputs": [
    {
     "data": {
      "image/png": "[encoded data removed]",
      "text/plain": [
       "<Figure size 640x480 with 1 Axes>"
      ]
     },
     "metadata": {},
     "output_type": "display_data"
    }
   ],
   "source": [
    "# Representar la variable de \"sexo\"\n",
    "custom_palette = {0: \"#FF800E\", 1: \"#1F75B4\"}\n",
    "\n",
    "\n",
    "sns.countplot(x=\"sexo\", data=df, palette= custom_palette)\n",
    "plt.title('Distribución por Sexo')\n",
    "plt.xlabel('Sexo')\n",
    "plt.ylabel('Frecuencia')\n",
    "plt.show()"
   ]
  },
  {
   "cell_type": "code",
   "execution_count": 90,
   "metadata": {},
   "outputs": [
    {
     "name": "stdout",
     "output_type": "stream",
     "text": [
      "Gráfico guardado en: c:\\Users\\alexm\\OneDrive\\Escritorio\\DESAFIO\\docs\\imagenes\\pie_plot_sexo.png\n"
     ]
    },
    {
     "data": {
      "image/png": "[encoded data removed]",
      "text/plain": [
       "<Figure size 640x480 with 1 Axes>"
      ]
     },
     "metadata": {},
     "output_type": "display_data"
    }
   ],
   "source": [
    "current_dir = os.getcwd() # Ruta del directorio actual\n",
    "output_file = os.path.join(current_dir, 'docs', 'imagenes', 'pie_plot_sexo.png') # Ruta donde se guardará la imagen creada\n",
    "\n",
    "# Mostramos el balanceo de datos \n",
    "fig2 = df['sexo'].value_counts().plot.pie(autopct=\"%.1f%%\")\n",
    "\n",
    "# Añadimos una leyenda personalizada\n",
    "etiquetas_leyenda = ['Hombre = 1', 'Mujer = 0']\n",
    "plt.legend(labels=etiquetas_leyenda, loc='upper right', bbox_to_anchor=(1.3, 1))\n",
    "\n",
    "fig2.figure.savefig(output_file) # Guardamos el gráfico\n",
    "\n",
    "print(f\"Gráfico guardado en: {output_file}\")\n"
   ]
  },
  {
   "cell_type": "markdown",
   "metadata": {},
   "source": [
    "<details>\n",
    "<summary>Explicación detallada de la variable \"sexo\"</summary>\n",
    "<p>\n",
    "A través de los gráficos realizados, se evidencia que la cantidad de usuarios hombres y mujeres en la aplicación web es equilibrada, con una leve inclinación hacia el género masculino, que representa aproximadamente el 52% de los usuarios. Sin embargo, esta diferencia es mínima y no puede considerarse significativa para afirmar que los usuarios hombres son mayoritarios. En consecuencia, podemos concluir que la aplicación es relevante y atractiva para ambos sexos de manera casi igualitaria. El equilibrio de género en la base de usuarios refuerza la idea de que la aplicación tiene un amplio alcance y aceptación en el público, independientemente del género.\n",
    "</p>\n",
    "</details>"
   ]
  },
  {
   "cell_type": "markdown",
   "metadata": {},
   "source": [
    "### VISUALIZACIONES DE LA VARIABLE \"EDAD\""
   ]
  },
  {
   "cell_type": "markdown",
   "metadata": {},
   "source": [
    "<details>\n",
    "<summary>Explicación detallada de la variable \"edad\"</summary>\n",
    "<p>\n",
    "En este análisis, realizaremos un agrupamiento de las edades para crear franjas de edad significativas. Posteriormente, asignaremos a cada franja un valor [0, 1, 2, 3] para facilitar la identificación de las categorías de edad predominantes y para analizar el conocimiento del calor en la educación en función de estas franjas.\n",
    "\n",
    "Las franjas de edad se definirán de la siguiente manera:\n",
    "\n",
    "- 18-24 años: Jóvenes adultos.\n",
    "- 25-44 años: Adultos jóvenes y de mediana edad.\n",
    "- 45-64 años: Adultos mayores.\n",
    "- 65 años y más: Personas en edad de jubilación.\n",
    "\n",
    "Asignar valores numéricos a cada franja nos permitirá realizar comparaciones cuantitativas y determinar con mayor claridad cómo el conocimiento sobre el calor en la educación se distribuye entre los diferentes grupos de edad.\n",
    "\n",
    "Al utilizar esta metodología, podremos identificar qué franja de edad tiene mayor conocimiento sobre el tema, cuál es la más receptiva a la información y en qué segmento de la población se debe enfocar más esfuerzos para mejorar la comprensión y conciencia sobre este tema.</p>\n",
    "</details>"
   ]
  },
  {
   "cell_type": "code",
   "execution_count": 91,
   "metadata": {},
   "outputs": [
    {
     "name": "stdout",
     "output_type": "stream",
     "text": [
      "101\n",
      "18\n"
     ]
    }
   ],
   "source": [
    "print(df[\"edad\"].max()) # Máxima\n",
    "print(df[\"edad\"].min()) # Mínima"
   ]
  },
  {
   "cell_type": "code",
   "execution_count": 92,
   "metadata": {},
   "outputs": [],
   "source": [
    "# Definimos las franjas de edad\n",
    "edades = [17, 25, 45, 65, float('inf')]\n",
    "etiquetas = ['17-24', '25-44', '45-64', '65+']\n",
    "\n",
    "# Usamos pd.cut() para crear los intervaloes\n",
    "df['franja_edad'] = pd.cut(df['edad'], bins=edades, labels=etiquetas)"
   ]
  },
  {
   "cell_type": "code",
   "execution_count": 93,
   "metadata": {},
   "outputs": [
    {
     "data": {
      "text/html": [
       "<div>\n",
       "<style scoped>\n",
       "    .dataframe tbody tr th:only-of-type {\n",
       "        vertical-align: middle;\n",
       "    }\n",
       "\n",
       "    .dataframe tbody tr th {\n",
       "        vertical-align: top;\n",
       "    }\n",
       "\n",
       "    .dataframe thead th {\n",
       "        text-align: right;\n",
       "    }\n",
       "</style>\n",
       "<table border=\"1\" class=\"dataframe\">\n",
       "  <thead>\n",
       "    <tr style=\"text-align: right;\">\n",
       "      <th></th>\n",
       "      <th>fecha_registro</th>\n",
       "      <th>user_id</th>\n",
       "      <th>sexo</th>\n",
       "      <th>cp</th>\n",
       "      <th>n_hijos_menores</th>\n",
       "      <th>edad</th>\n",
       "      <th>mes_registro</th>\n",
       "      <th>franja_edad</th>\n",
       "      <th>valor_franja_edad</th>\n",
       "    </tr>\n",
       "  </thead>\n",
       "  <tbody>\n",
       "    <tr>\n",
       "      <th>0</th>\n",
       "      <td>2023-02-27</td>\n",
       "      <td>390424</td>\n",
       "      <td>1</td>\n",
       "      <td>28049</td>\n",
       "      <td>4</td>\n",
       "      <td>48</td>\n",
       "      <td>2</td>\n",
       "      <td>45-64</td>\n",
       "      <td>2</td>\n",
       "    </tr>\n",
       "    <tr>\n",
       "      <th>1</th>\n",
       "      <td>2023-05-17</td>\n",
       "      <td>642877</td>\n",
       "      <td>1</td>\n",
       "      <td>28053</td>\n",
       "      <td>5</td>\n",
       "      <td>82</td>\n",
       "      <td>5</td>\n",
       "      <td>65+</td>\n",
       "      <td>3</td>\n",
       "    </tr>\n",
       "    <tr>\n",
       "      <th>2</th>\n",
       "      <td>2023-07-08</td>\n",
       "      <td>501380</td>\n",
       "      <td>0</td>\n",
       "      <td>28018</td>\n",
       "      <td>1</td>\n",
       "      <td>27</td>\n",
       "      <td>7</td>\n",
       "      <td>25-44</td>\n",
       "      <td>1</td>\n",
       "    </tr>\n",
       "    <tr>\n",
       "      <th>3</th>\n",
       "      <td>2023-06-05</td>\n",
       "      <td>136811</td>\n",
       "      <td>1</td>\n",
       "      <td>28019</td>\n",
       "      <td>2</td>\n",
       "      <td>20</td>\n",
       "      <td>6</td>\n",
       "      <td>17-24</td>\n",
       "      <td>0</td>\n",
       "    </tr>\n",
       "    <tr>\n",
       "      <th>4</th>\n",
       "      <td>2023-05-07</td>\n",
       "      <td>647461</td>\n",
       "      <td>0</td>\n",
       "      <td>28053</td>\n",
       "      <td>2</td>\n",
       "      <td>81</td>\n",
       "      <td>5</td>\n",
       "      <td>65+</td>\n",
       "      <td>3</td>\n",
       "    </tr>\n",
       "    <tr>\n",
       "      <th>...</th>\n",
       "      <td>...</td>\n",
       "      <td>...</td>\n",
       "      <td>...</td>\n",
       "      <td>...</td>\n",
       "      <td>...</td>\n",
       "      <td>...</td>\n",
       "      <td>...</td>\n",
       "      <td>...</td>\n",
       "      <td>...</td>\n",
       "    </tr>\n",
       "    <tr>\n",
       "      <th>495</th>\n",
       "      <td>2023-02-21</td>\n",
       "      <td>239240</td>\n",
       "      <td>1</td>\n",
       "      <td>28070</td>\n",
       "      <td>5</td>\n",
       "      <td>20</td>\n",
       "      <td>2</td>\n",
       "      <td>17-24</td>\n",
       "      <td>0</td>\n",
       "    </tr>\n",
       "    <tr>\n",
       "      <th>496</th>\n",
       "      <td>2023-05-29</td>\n",
       "      <td>427549</td>\n",
       "      <td>0</td>\n",
       "      <td>28010</td>\n",
       "      <td>3</td>\n",
       "      <td>20</td>\n",
       "      <td>5</td>\n",
       "      <td>17-24</td>\n",
       "      <td>0</td>\n",
       "    </tr>\n",
       "    <tr>\n",
       "      <th>497</th>\n",
       "      <td>2023-06-17</td>\n",
       "      <td>663794</td>\n",
       "      <td>0</td>\n",
       "      <td>28024</td>\n",
       "      <td>0</td>\n",
       "      <td>75</td>\n",
       "      <td>6</td>\n",
       "      <td>65+</td>\n",
       "      <td>3</td>\n",
       "    </tr>\n",
       "    <tr>\n",
       "      <th>498</th>\n",
       "      <td>2023-03-11</td>\n",
       "      <td>436490</td>\n",
       "      <td>1</td>\n",
       "      <td>28086</td>\n",
       "      <td>5</td>\n",
       "      <td>94</td>\n",
       "      <td>3</td>\n",
       "      <td>65+</td>\n",
       "      <td>3</td>\n",
       "    </tr>\n",
       "    <tr>\n",
       "      <th>499</th>\n",
       "      <td>2023-06-29</td>\n",
       "      <td>930710</td>\n",
       "      <td>1</td>\n",
       "      <td>28053</td>\n",
       "      <td>4</td>\n",
       "      <td>65</td>\n",
       "      <td>6</td>\n",
       "      <td>45-64</td>\n",
       "      <td>2</td>\n",
       "    </tr>\n",
       "  </tbody>\n",
       "</table>\n",
       "<p>500 rows × 9 columns</p>\n",
       "</div>"
      ],
      "text/plain": [
       "    fecha_registro  user_id  sexo     cp  n_hijos_menores  edad  mes_registro   \n",
       "0       2023-02-27   390424     1  28049                4    48             2  \\\n",
       "1       2023-05-17   642877     1  28053                5    82             5   \n",
       "2       2023-07-08   501380     0  28018                1    27             7   \n",
       "3       2023-06-05   136811     1  28019                2    20             6   \n",
       "4       2023-05-07   647461     0  28053                2    81             5   \n",
       "..             ...      ...   ...    ...              ...   ...           ...   \n",
       "495     2023-02-21   239240     1  28070                5    20             2   \n",
       "496     2023-05-29   427549     0  28010                3    20             5   \n",
       "497     2023-06-17   663794     0  28024                0    75             6   \n",
       "498     2023-03-11   436490     1  28086                5    94             3   \n",
       "499     2023-06-29   930710     1  28053                4    65             6   \n",
       "\n",
       "    franja_edad valor_franja_edad  \n",
       "0         45-64                 2  \n",
       "1           65+                 3  \n",
       "2         25-44                 1  \n",
       "3         17-24                 0  \n",
       "4           65+                 3  \n",
       "..          ...               ...  \n",
       "495       17-24                 0  \n",
       "496       17-24                 0  \n",
       "497         65+                 3  \n",
       "498         65+                 3  \n",
       "499       45-64                 2  \n",
       "\n",
       "[500 rows x 9 columns]"
      ]
     },
     "execution_count": 93,
     "metadata": {},
     "output_type": "execute_result"
    }
   ],
   "source": [
    "# Definimos el diccionario de mapeo para asignar valores específicos a cada categoría de edad\n",
    "valor_por_franja = {'17-24': 0, \n",
    "                    '25-44': 1, \n",
    "                    '45-64': 2, \n",
    "                    '65+': 3}\n",
    "\n",
    "# Aplicamos el mapeo para asignar los valores correspondientes a la columna 'franja_edad'\n",
    "df['valor_franja_edad'] = df['franja_edad'].map(valor_por_franja)\n",
    "\n",
    "df"
   ]
  },
  {
   "cell_type": "code",
   "execution_count": 94,
   "metadata": {},
   "outputs": [
    {
     "data": {
      "text/plain": [
       "0"
      ]
     },
     "execution_count": 94,
     "metadata": {},
     "output_type": "execute_result"
    }
   ],
   "source": [
    "# Comprobamos que no hay valores Nan\n",
    "df[\"valor_franja_edad\"].isnull().sum()"
   ]
  },
  {
   "cell_type": "code",
   "execution_count": 95,
   "metadata": {},
   "outputs": [
    {
     "name": "stdout",
     "output_type": "stream",
     "text": [
      "Gráfico guardado en: c:\\Users\\alexm\\OneDrive\\Escritorio\\DESAFIO\\docs\\imagenes\\pie_plot_franja_edad.png\n"
     ]
    },
    {
     "data": {
      "image/png": "[encoded data removed]",
      "text/plain": [
       "<Figure size 640x480 with 1 Axes>"
      ]
     },
     "metadata": {},
     "output_type": "display_data"
    }
   ],
   "source": [
    "current_dir = os.getcwd() # Ruta del directorio actual\n",
    "output_file = os.path.join(current_dir, 'docs', 'imagenes', 'pie_plot_franja_edad.png') # Ruta donde se guardará la imagen creada\n",
    "\n",
    "# Mostramos el balanceo de datos \n",
    "fig2 = df['valor_franja_edad'].value_counts().plot.pie(autopct=\"%.1f%%\")\n",
    "\n",
    "# Añadimos una leyenda\n",
    "etiquetas_franjas = ['18-24 = 0', '25-44 = 1', '45-64 = 2', '65+ = 3']\n",
    "plt.legend(labels=etiquetas_franjas, loc='upper right', bbox_to_anchor=(1.3, 1))\n",
    "\n",
    "fig2.figure.savefig(output_file) # Guardamos el gráfico\n",
    "\n",
    "print(f\"Gráfico guardado en: {output_file}\")"
   ]
  },
  {
   "cell_type": "code",
   "execution_count": 32,
   "metadata": {},
   "outputs": [],
   "source": [
    "# Para que el dataframe se vea entero las filas\n",
    "# pd.set_option('display.max_rows', None)"
   ]
  },
  {
   "cell_type": "code",
   "execution_count": 96,
   "metadata": {},
   "outputs": [
    {
     "name": "stdout",
     "output_type": "stream",
     "text": [
      "Gráfico guardado en: c:\\Users\\alexm\\OneDrive\\Escritorio\\DESAFIO\\docs\\imagenes\\pie_plot_franja_edad_espaciado.png\n"
     ]
    },
    {
     "data": {
      "image/png": "[encoded data removed]",
      "text/plain": [
       "<Figure size 640x480 with 1 Axes>"
      ]
     },
     "metadata": {},
     "output_type": "display_data"
    }
   ],
   "source": [
    "current_dir = os.getcwd() # Ruta del directorio actual\n",
    "output_file = os.path.join(current_dir, 'docs', 'imagenes', 'pie_plot_franja_edad_espaciado.png') # Ruta donde se guardará la imagen creada\n",
    "\n",
    "# Definimos una paleta de colores personalizada para cada categoría de edad\n",
    "custom_palette = {0: \"#d62728\", 1: \"#2ca02c\", 2: \"#ff7f0e\", 3: \"#1f77b4\"}\n",
    "\n",
    "# Ordenamos los valores por 'valor_franja_edad' para que coincidan con la paleta de colores y las etiquetas\n",
    "sorted_counts = df['valor_franja_edad'].value_counts().sort_index()\n",
    "\n",
    "# Porción de desplazamiento para cada franja del queso (0 para ninguna separación)\n",
    "explode = [0.015, 0.015, 0.015, 0.015]\n",
    "\n",
    "# Mostramos el balanceo de datos \n",
    "fig2 = sorted_counts.plot.pie(autopct=\"%.1f%%\", colors=[custom_palette[i] for i in sorted_counts.index], explode=explode)\n",
    "\n",
    "# Añadimos una leyenda personalizada con los colores correctos\n",
    "etiquetas_franjas = ['18-24', '25-44', '45-64', '65+']\n",
    "handles, _ = fig2.get_legend_handles_labels()\n",
    "plt.legend(handles=handles, labels=etiquetas_franjas, loc='upper right', bbox_to_anchor=(1.3, 1))\n",
    "\n",
    "fig2.figure.savefig(output_file) # Guardamos el gráfico\n",
    "\n",
    "print(f\"Gráfico guardado en: {output_file}\")\n"
   ]
  },
  {
   "cell_type": "code",
   "execution_count": 97,
   "metadata": {},
   "outputs": [
    {
     "name": "stderr",
     "output_type": "stream",
     "text": [
      "No artists with labels found to put in legend.  Note that artists whose label start with an underscore are ignored when legend() is called with no argument.\n"
     ]
    },
    {
     "name": "stdout",
     "output_type": "stream",
     "text": [
      "Gráfico guardado en: c:\\Users\\alexm\\OneDrive\\Escritorio\\DESAFIO\\docs\\imagenes\\pie_plot_franja_edad_circulos.png\n"
     ]
    },
    {
     "data": {
      "image/png": "[encoded data removed]",
      "text/plain": [
       "<Figure size 640x480 with 1 Axes>"
      ]
     },
     "metadata": {},
     "output_type": "display_data"
    }
   ],
   "source": [
    "current_dir = os.getcwd() # Ruta del directorio actual\n",
    "output_file = os.path.join(current_dir, 'docs', 'imagenes', 'pie_plot_franja_edad_circulos.png') # Ruta donde se guardará la imagen creada\n",
    "\n",
    "# Definimos una paleta de colores personalizada para cada categoría de edad\n",
    "custom_palette = {0: \"#d62728\", 1: \"#2ca02c\", 2: \"#ff7f0e\", 3: \"#1f77b4\"}\n",
    "\n",
    "# Ordenamos los valores por 'valor_franja_edad' para que coincidan con la paleta de colores y las etiquetas\n",
    "sorted_counts = df['valor_franja_edad'].value_counts().sort_index()\n",
    "\n",
    "# Porción de desplazamiento para cada franja del queso (0 para ninguna separación)\n",
    "explode = [0.015, 0.015, 0.015, 0.015]\n",
    "\n",
    "# Mostramos el balanceo de datos\n",
    "fig, ax = plt.subplots()\n",
    "\n",
    "# Gráfico de pastel\n",
    "wedges, texts, autotexts = ax.pie(sorted_counts, autopct=\"%.1f%%\", colors=[custom_palette[i] for i in sorted_counts.index], explode=explode)\n",
    "\n",
    "# Añadimos círculo en el centro para representar el total\n",
    "centre_circle = plt.Circle((0, 0), 0.70, fc='white')\n",
    "ax.add_artist(centre_circle)\n",
    "\n",
    "# Añadimos una leyenda personalizada con los colores correctos\n",
    "etiquetas_franjas = ['17-24', '25-44', '45-64', '65+']\n",
    "handles, _ = ax.get_legend_handles_labels()\n",
    "ax.legend(handles=handles, labels=etiquetas_franjas, loc='upper right', bbox_to_anchor=(1.3, 1))\n",
    "\n",
    "\n",
    "plt.axis('equal')  \n",
    "\n",
    "fig.savefig(output_file)  # Guardamos el gráfico\n",
    "\n",
    "print(f\"Gráfico guardado en: {output_file}\")\n",
    "\n"
   ]
  },
  {
   "cell_type": "markdown",
   "metadata": {},
   "source": [
    "<details>\n",
    "<summary>Explicación detallada de la variable \"edad\"</summary>\n",
    "<p>\n",
    "A través del gráfico de pastel anterior, se puede observar claramente que la mayoría abrumadora de los usuarios, un 43.4%, pertenecen a la franja de edad de 18 a 24 años. Esta cifra destaca significativamente en comparación con las otras franjas de edad. Tanto los usuarios de 25 a 44 años como los de 45 a 64 años muestran una proporción similar, representando el 22.2% y el 23.0% respectivamente.\n",
    "\n",
    "Sin embargo, es preocupante que la franja de edad de 18 a 24 años presente un porcentaje tan bajo, apenas un 11.4%. Esto sugiere que estos jóvenes muestran un menor agrado o interés por la aplicación web en comparación con otros grupos de edad.\n",
    "\n",
    "Estos datos son fundamentales para tomar decisiones informadas sobre posibles ajustes o mejoras dirigidas a la audiencia más joven y para capitalizar el éxito entre el grupo de usuarios más numeroso. El análisis de la distribución por edades proporciona información valiosa para comprender el comportamiento y las preferencias de los usuarios, lo que permitirá mejorar la experiencia global y el alcance de la aplicación web.\n",
    "</p>\n",
    "</details>"
   ]
  },
  {
   "cell_type": "code",
   "execution_count": null,
   "metadata": {},
   "outputs": [],
   "source": []
  },
  {
   "cell_type": "code",
   "execution_count": null,
   "metadata": {},
   "outputs": [],
   "source": []
  },
  {
   "cell_type": "markdown",
   "metadata": {},
   "source": [
    "# MACHINE LEARNING"
   ]
  },
  {
   "cell_type": "code",
   "execution_count": 50,
   "metadata": {},
   "outputs": [
    {
     "data": {
      "image/png": "[encoded data removed]",
      "text/plain": [
       "<Figure size 1500x1500 with 2 Axes>"
      ]
     },
     "metadata": {},
     "output_type": "display_data"
    }
   ],
   "source": [
    "# Calculamos la matriz de correlación para las columnas numéricas\n",
    "correlation_matrix = df.corr()\n",
    "\n",
    "# Creamos mapa de calor de correlación\n",
    "plt.figure(figsize=(15, 15))\n",
    "sns.heatmap(correlation_matrix, annot=True, cmap='coolwarm', fmt=\".0%\" )\n",
    "plt.title('Matriz de correlación (solo variables numéricas)')\n",
    "plt.show()\n"
   ]
  },
  {
   "cell_type": "code",
   "execution_count": null,
   "metadata": {},
   "outputs": [],
   "source": []
  }
 ],
 "metadata": {
  "kernelspec": {
   "display_name": "Python 3",
   "language": "python",
   "name": "python3"
  },
  "language_info": {
   "codemirror_mode": {
    "name": "ipython",
    "version": 3
   },
   "file_extension": ".py",
   "mimetype": "text/x-python",
   "name": "python",
   "nbconvert_exporter": "python",
   "pygments_lexer": "ipython3",
   "version": "3.10.11"
  },
  "orig_nbformat": 4
 },
 "nbformat": 4,
 "nbformat_minor": 2
}
