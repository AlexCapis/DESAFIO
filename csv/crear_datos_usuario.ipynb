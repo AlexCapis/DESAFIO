{
 "cells": [
  {
   "cell_type": "code",
   "execution_count": 1,
   "metadata": {},
   "outputs": [],
   "source": [
    "import pandas as pd\n",
    "import numpy as np"
   ]
  },
  {
   "cell_type": "code",
   "execution_count": 2,
   "metadata": {},
   "outputs": [],
   "source": [
    "fecha = (['23/1/2023','15/02/23','12/1/23','7/2/23','26/2/23', '1/03/23'])\n",
    "nombres = ['andres','eva','miguel','ana','luis', 'jacinto']\n",
    "transporte = ['coche','autobus','coche','a pie','metro', 'bici']\n",
    "tiempo_transporte_m = ['40','15','7','20','25', '15']\n",
    "cp = ['28006','28016','28002','28001','28014', '28002']\n",
    "edad = ['22','35','36','42','57', '63']\n",
    "n_hijos_menores = ['0','3','0','1','1', '0']\n"
   ]
  },
  {
   "cell_type": "code",
   "execution_count": null,
   "metadata": {},
   "outputs": [],
   "source": []
  },
  {
   "cell_type": "code",
   "execution_count": 4,
   "metadata": {},
   "outputs": [],
   "source": [
    "df = {\n",
    "    'fecha': fecha,\n",
    "    'nombre': nombres,\n",
    "    'transporte': transporte,\n",
    "    \"tiempo_transporte_m\" : tiempo_transporte_m,\n",
    "    \"n_hijos_menores\": n_hijos_menores,\n",
    "    \"cp\" : cp,\n",
    "    \"edad\": edad,\n",
    "}"
   ]
  },
  {
   "cell_type": "code",
   "execution_count": 5,
   "metadata": {},
   "outputs": [],
   "source": [
    "usuarios = pd.DataFrame(df)"
   ]
  },
  {
   "cell_type": "code",
   "execution_count": 6,
   "metadata": {},
   "outputs": [
    {
     "data": {
      "text/html": [
       "<div>\n",
       "<style scoped>\n",
       "    .dataframe tbody tr th:only-of-type {\n",
       "        vertical-align: middle;\n",
       "    }\n",
       "\n",
       "    .dataframe tbody tr th {\n",
       "        vertical-align: top;\n",
       "    }\n",
       "\n",
       "    .dataframe thead th {\n",
       "        text-align: right;\n",
       "    }\n",
       "</style>\n",
       "<table border=\"1\" class=\"dataframe\">\n",
       "  <thead>\n",
       "    <tr style=\"text-align: right;\">\n",
       "      <th></th>\n",
       "      <th>fecha</th>\n",
       "      <th>nombre</th>\n",
       "      <th>transporte</th>\n",
       "      <th>tiempo_transporte_m</th>\n",
       "      <th>n_hijos_menores</th>\n",
       "      <th>cp</th>\n",
       "      <th>edad</th>\n",
       "    </tr>\n",
       "  </thead>\n",
       "  <tbody>\n",
       "    <tr>\n",
       "      <th>0</th>\n",
       "      <td>23/1/2023</td>\n",
       "      <td>andres</td>\n",
       "      <td>coche</td>\n",
       "      <td>40</td>\n",
       "      <td>0</td>\n",
       "      <td>28006</td>\n",
       "      <td>22</td>\n",
       "    </tr>\n",
       "    <tr>\n",
       "      <th>1</th>\n",
       "      <td>15/02/23</td>\n",
       "      <td>eva</td>\n",
       "      <td>autobus</td>\n",
       "      <td>15</td>\n",
       "      <td>3</td>\n",
       "      <td>28016</td>\n",
       "      <td>35</td>\n",
       "    </tr>\n",
       "    <tr>\n",
       "      <th>2</th>\n",
       "      <td>12/1/23</td>\n",
       "      <td>miguel</td>\n",
       "      <td>coche</td>\n",
       "      <td>7</td>\n",
       "      <td>0</td>\n",
       "      <td>28002</td>\n",
       "      <td>36</td>\n",
       "    </tr>\n",
       "    <tr>\n",
       "      <th>3</th>\n",
       "      <td>7/2/23</td>\n",
       "      <td>ana</td>\n",
       "      <td>a pie</td>\n",
       "      <td>20</td>\n",
       "      <td>1</td>\n",
       "      <td>28001</td>\n",
       "      <td>42</td>\n",
       "    </tr>\n",
       "    <tr>\n",
       "      <th>4</th>\n",
       "      <td>26/2/23</td>\n",
       "      <td>luis</td>\n",
       "      <td>metro</td>\n",
       "      <td>25</td>\n",
       "      <td>1</td>\n",
       "      <td>28014</td>\n",
       "      <td>57</td>\n",
       "    </tr>\n",
       "    <tr>\n",
       "      <th>5</th>\n",
       "      <td>1/03/23</td>\n",
       "      <td>jacinto</td>\n",
       "      <td>bici</td>\n",
       "      <td>15</td>\n",
       "      <td>0</td>\n",
       "      <td>28002</td>\n",
       "      <td>63</td>\n",
       "    </tr>\n",
       "  </tbody>\n",
       "</table>\n",
       "</div>"
      ],
      "text/plain": [
       "       fecha   nombre transporte tiempo_transporte_m n_hijos_menores     cp  \\\n",
       "0  23/1/2023   andres      coche                  40               0  28006   \n",
       "1   15/02/23      eva    autobus                  15               3  28016   \n",
       "2    12/1/23   miguel      coche                   7               0  28002   \n",
       "3     7/2/23      ana      a pie                  20               1  28001   \n",
       "4    26/2/23     luis      metro                  25               1  28014   \n",
       "5    1/03/23  jacinto       bici                  15               0  28002   \n",
       "\n",
       "  edad  \n",
       "0   22  \n",
       "1   35  \n",
       "2   36  \n",
       "3   42  \n",
       "4   57  \n",
       "5   63  "
      ]
     },
     "execution_count": 6,
     "metadata": {},
     "output_type": "execute_result"
    }
   ],
   "source": [
    "usuarios\n"
   ]
  },
  {
   "cell_type": "code",
   "execution_count": 9,
   "metadata": {},
   "outputs": [],
   "source": [
    "usuarios.to_csv(\"ejemplo_usuarios.csv\",index=False)"
   ]
  },
  {
   "cell_type": "code",
   "execution_count": null,
   "metadata": {},
   "outputs": [],
   "source": []
  }
 ],
 "metadata": {
  "kernelspec": {
   "display_name": "Python 3",
   "language": "python",
   "name": "python3"
  },
  "language_info": {
   "codemirror_mode": {
    "name": "ipython",
    "version": 3
   },
   "file_extension": ".py",
   "mimetype": "text/x-python",
   "name": "python",
   "nbconvert_exporter": "python",
   "pygments_lexer": "ipython3",
   "version": "3.7.4"
  },
  "orig_nbformat": 4
 },
 "nbformat": 4,
 "nbformat_minor": 2
}
