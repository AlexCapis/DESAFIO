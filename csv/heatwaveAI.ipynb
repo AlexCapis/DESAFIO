{
 "cells": [
  {
   "cell_type": "code",
   "execution_count": null,
   "metadata": {},
   "outputs": [],
   "source": [
    "import openai\n",
    "\n",
    "def get_heat_wave_information(question):\n",
    "    # Your OpenAI API key here\n",
    "    api_key = \"YOUR_API_KEY\"\n",
    "\n",
    "    # Set up the API key\n",
    "    openai.api_key = api_key\n",
    "\n",
    "    # The prompt for the API call\n",
    "    prompt = \"Heat waves and their impact on cities and the community:\\n\"\n",
    "\n",
    "    # Concatenate the prompt and the user's question\n",
    "    search_query = prompt + question\n",
    "\n",
    "    # Make the API call\n",
    "    response = openai.Completion.create(\n",
    "        engine=\"davinci\",\n",
    "        prompt=search_query,\n",
    "        max_tokens=200,  # Adjust this value based on your needs\n",
    "        stop=[\"\\n\"],     # Stop when the first complete sentence is generated\n",
    "        temperature=0,   # Set to 0 for deterministic results, higher for randomness\n",
    "        n=1              # Number of responses to return\n",
    "    )\n",
    "\n",
    "    # Extract the answer from the API response\n",
    "    answer = response['choices'][0]['text'].strip()\n",
    "\n",
    "    return answer\n",
    "\n",
    "if __name__ == \"__main__\":\n",
    "    while True:\n",
    "        question = input(\"Ask a question related to heat waves: \")\n",
    "\n",
    "        # Check if the question contains relevant keywords\n",
    "        if \"heat\" in question.lower() or \"wave\" in question.lower():\n",
    "            answer = get_heat_wave_information(question)\n",
    "            print(\"Answer:\", answer)\n",
    "        else:\n",
    "            print(\"Please ask a question related to heat waves.\")"
   ]
  }
 ],
 "metadata": {
  "language_info": {
   "name": "python"
  },
  "orig_nbformat": 4
 },
 "nbformat": 4,
 "nbformat_minor": 2
}
